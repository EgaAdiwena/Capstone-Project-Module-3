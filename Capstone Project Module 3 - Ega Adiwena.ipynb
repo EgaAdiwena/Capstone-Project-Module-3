{
 "cells": [
  {
   "cell_type": "markdown",
   "metadata": {},
   "source": [
    "# I. Data Uderstanding"
   ]
  },
  {
   "cell_type": "markdown",
   "metadata": {},
   "source": [
    "### Attribute Information\n",
    "\n",
    "| Attribute | Data Type, Length | Description |\n",
    "| --- | --- | --- |\n",
    "| Type | Text | Brand Name of Car |\n",
    "| Region | Text | The region in which the used car was offered for sale |\n",
    "| Make | Text | Name of the car company |\n",
    "| Gear_Type | Text | Automatic / Manual |\n",
    "| Origin | Text | Country of importer (Gulf / Saudi / Other) |\n",
    "| Options | Text | Full Options / Semi-Full / Standard |\n",
    "| Year | Int | Year of Manufacturing |\n",
    "| Engine_Size | Float | The engine size of used car |\n",
    "| Mileage | Int | The average distance that a vehicle can travel on (in km) |\n",
    "| Negotiable | Bool| If True, the price is 0. This means the price is negotiable (not set) |\n",
    "| Price | Int | Price of the used car (in SAR) |"
   ]
  },
  {
   "cell_type": "markdown",
   "metadata": {},
   "source": [
    "# II. Business Problem"
   ]
  },
  {
   "cell_type": "markdown",
   "metadata": {},
   "source": [
    "**Context**\n"
   ]
  },
  {
   "cell_type": "markdown",
   "metadata": {},
   "source": [
    "**Problem Statement**\n",
    "\n",
    "Penentuan harga mobil bekas bagi suatu perusahaan merupakan satu tantangan utama yang dihadapi. Hal itu karena penaksiran harga mobil bekas tidaklah mudah. Penentuan harga yang berbasis kepada beberapa faktor mobil bekas seperti merk, jenis mesin, tahun dan lainnya merupakan satu hal yang membutuhkan keahlian lebih sehingga mendapatkan harga yang cocok dengan pasar. Satu perusahaan mobil bekas tidak bisa menentukan harga dengan acak, dikarenakan tidak akan bisa mendapatkan mobil bekas dengan harga jauh di bawah pasar tetapi juga tidak bisa untuk memberikan harga terlalu tinggi terhadap mobil bekas yang akan dijadikan komoditi pasar karena akan mengurangi profit margin dari perusahaan tersebut.\n",
    "\n",
    "Oleh karena itu dibutuhkan sebuah pemodelan machine learning yang dapat memberikan prediksi dari suatu harga mobil sehingga bisa didapatkan basis harga dari mobil bekas berdasarkan data historis perusahaan. Pemodelan machine learning tersebut akan memudahkan perusahaan untuk mendapatkan harga yang cocok terhadap mobil bekas yang akan dijadikan komoditi sehingga profit margin dari perusahaan dapat terpenuhi dengan baik."
   ]
  },
  {
   "cell_type": "markdown",
   "metadata": {},
   "source": [
    "**Goal**\n",
    "\n",
    "Dengan adanya tantangan tersebut, ingin dicapai tujuan berupa pemodelan machine learning yang dapat memprediksi harga suatu mobil bekas berdasarkan data historis penjualan mobil bekas yang dimiliki oleh perusahaan. Sehingga ketika perusahaan akan melakukan jual beli mobil bekas, perusahaan dapat memberikan perkiraan harga berdasarkan tren pasar dan sesuai dengan spesifikasi mobil tanpa dengan cepat dan mudah, dan dapat menjaga profit margin dengan baik."
   ]
  },
  {
   "cell_type": "markdown",
   "metadata": {},
   "source": [
    "**Analytic Approach**\n",
    "\n",
    "Perlu dilakukan analisis terhadap data yang dimiliki, sehingga dapat menentukan feature yang akan digunakan di dalam pemodelan machine learning yang menggunakan feature yang relevan untuk memprediksi harga dari mobil bekas tersebut.\n",
    "\n",
    "Model ini berguna sebagai alat yang dapat dijadikan panduan dalam penentuan harga mobil bekas sehingga perusahaan tidak mendapatkan harga yang overprice dari pasar."
   ]
  },
  {
   "cell_type": "markdown",
   "metadata": {},
   "source": [
    "**Metric Evaluation**\n",
    "\n",
    "Evaluasi metrik yang akan digunakan adalah RMSE, MAE, dan R². RMSE (Root Mean Squared Error) adalah nilai rata-rata akar kuadrat dari error, yang digunakan untuk mengukur seberapa jauh prediksi model dibandingkan nilai aktual dalam satuan yang sama dengan variabel target. MAE (Mean Absolute Error) adalah rata-rata dari nilai absolut error, yang menunjukkan seberapa besar error prediksi tanpa memperhatikan arah kesalahannya. Semakin kecil nilai RMSE dan MAE yang dihasilkan, semakin baik akurasi model dalam memprediksi sesuai dengan data observasi.\n",
    "\n",
    "Selain itu, R² (R-squared) akan digunakan untuk mengevaluasi seberapa baik model dapat menjelaskan variabilitas data. Nilai R² berkisar antara 0 hingga 1, di mana nilai mendekati 1 menunjukkan bahwa model memiliki kemampuan yang baik dalam merepresentasikan data observasi. Jika nilai R² rendah, hal ini mengindikasikan bahwa model kurang mampu menjelaskan varians data, sehingga kemungkinan diperlukan perbaikan pada fitur atau model yang digunakan."
   ]
  },
  {
   "cell_type": "markdown",
   "metadata": {},
   "source": [
    "# III. Import Library"
   ]
  },
  {
   "cell_type": "code",
   "execution_count": 88,
   "metadata": {},
   "outputs": [],
   "source": [
    "import numpy as np\n",
    "import pandas as pd\n",
    "import matplotlib.pyplot as plt\n",
    "import seaborn as sns\n",
    "\n",
    "from sklearn.preprocessing import OneHotEncoder, StandardScaler\n",
    "from category_encoders.binary import BinaryEncoder\n",
    "from sklearn.model_selection import train_test_split, cross_val_score, RandomizedSearchCV, GridSearchCV\n",
    "from sklearn.metrics import mean_squared_error, mean_absolute_error, r2_score\n",
    "from sklearn.pipeline import Pipeline\n",
    "from sklearn.impute import SimpleImputer\n",
    "from sklearn.compose import ColumnTransformer\n",
    "from sklearn.linear_model import LinearRegression\n",
    "from sklearn.svm import SVR\n",
    "from sklearn.tree import DecisionTreeRegressor\n",
    "from sklearn.ensemble import GradientBoostingRegressor, GradientBoostingRegressor\n",
    "from sklearn.neighbors import KNeighborsRegressor\n",
    "from sklearn.ensemble import RandomForestRegressor\n",
    "from sklearn.feature_selection import SelectKBest, f_classif, f_regression\n",
    "from sklearn.preprocessing import FunctionTransformer\n",
    "import joblib\n",
    "\n",
    "\n",
    "from feature_engine.outliers import Winsorizer\n",
    "from xgboost import XGBRegressor\n",
    "from lightgbm import LGBMRegressor\n",
    "from phik import phik_matrix\n",
    "from scipy.stats import randint, uniform\n",
    "\n",
    "import warnings\n",
    "import joblib\n",
    "\n",
    "warnings.filterwarnings('ignore')\n",
    "\n",
    "\n"
   ]
  },
  {
   "cell_type": "markdown",
   "metadata": {},
   "source": [
    "# IV. Data Loading"
   ]
  },
  {
   "cell_type": "code",
   "execution_count": 89,
   "metadata": {},
   "outputs": [],
   "source": [
    "# Load data dari CSV\n",
    "data_car = pd.read_csv(\"data_saudi_used_cars.csv\")"
   ]
  },
  {
   "cell_type": "code",
   "execution_count": 90,
   "metadata": {},
   "outputs": [
    {
     "data": {
      "text/html": [
       "<div>\n",
       "<style scoped>\n",
       "    .dataframe tbody tr th:only-of-type {\n",
       "        vertical-align: middle;\n",
       "    }\n",
       "\n",
       "    .dataframe tbody tr th {\n",
       "        vertical-align: top;\n",
       "    }\n",
       "\n",
       "    .dataframe thead th {\n",
       "        text-align: right;\n",
       "    }\n",
       "</style>\n",
       "<table border=\"1\" class=\"dataframe\">\n",
       "  <thead>\n",
       "    <tr style=\"text-align: right;\">\n",
       "      <th></th>\n",
       "      <th>Type</th>\n",
       "      <th>Region</th>\n",
       "      <th>Make</th>\n",
       "      <th>Gear_Type</th>\n",
       "      <th>Origin</th>\n",
       "      <th>Options</th>\n",
       "      <th>Year</th>\n",
       "      <th>Engine_Size</th>\n",
       "      <th>Mileage</th>\n",
       "      <th>Negotiable</th>\n",
       "      <th>Price</th>\n",
       "    </tr>\n",
       "  </thead>\n",
       "  <tbody>\n",
       "    <tr>\n",
       "      <th>0</th>\n",
       "      <td>Corolla</td>\n",
       "      <td>Abha</td>\n",
       "      <td>Toyota</td>\n",
       "      <td>Manual</td>\n",
       "      <td>Saudi</td>\n",
       "      <td>Standard</td>\n",
       "      <td>2013</td>\n",
       "      <td>1.4</td>\n",
       "      <td>421000</td>\n",
       "      <td>True</td>\n",
       "      <td>0</td>\n",
       "    </tr>\n",
       "    <tr>\n",
       "      <th>1</th>\n",
       "      <td>Yukon</td>\n",
       "      <td>Riyadh</td>\n",
       "      <td>GMC</td>\n",
       "      <td>Automatic</td>\n",
       "      <td>Saudi</td>\n",
       "      <td>Full</td>\n",
       "      <td>2014</td>\n",
       "      <td>8.0</td>\n",
       "      <td>80000</td>\n",
       "      <td>False</td>\n",
       "      <td>120000</td>\n",
       "    </tr>\n",
       "    <tr>\n",
       "      <th>2</th>\n",
       "      <td>Range Rover</td>\n",
       "      <td>Riyadh</td>\n",
       "      <td>Land Rover</td>\n",
       "      <td>Automatic</td>\n",
       "      <td>Gulf Arabic</td>\n",
       "      <td>Full</td>\n",
       "      <td>2015</td>\n",
       "      <td>5.0</td>\n",
       "      <td>140000</td>\n",
       "      <td>False</td>\n",
       "      <td>260000</td>\n",
       "    </tr>\n",
       "    <tr>\n",
       "      <th>3</th>\n",
       "      <td>Optima</td>\n",
       "      <td>Hafar Al-Batin</td>\n",
       "      <td>Kia</td>\n",
       "      <td>Automatic</td>\n",
       "      <td>Saudi</td>\n",
       "      <td>Semi Full</td>\n",
       "      <td>2015</td>\n",
       "      <td>2.4</td>\n",
       "      <td>220000</td>\n",
       "      <td>False</td>\n",
       "      <td>42000</td>\n",
       "    </tr>\n",
       "    <tr>\n",
       "      <th>4</th>\n",
       "      <td>FJ</td>\n",
       "      <td>Riyadh</td>\n",
       "      <td>Toyota</td>\n",
       "      <td>Automatic</td>\n",
       "      <td>Saudi</td>\n",
       "      <td>Full</td>\n",
       "      <td>2020</td>\n",
       "      <td>4.0</td>\n",
       "      <td>49000</td>\n",
       "      <td>True</td>\n",
       "      <td>0</td>\n",
       "    </tr>\n",
       "  </tbody>\n",
       "</table>\n",
       "</div>"
      ],
      "text/plain": [
       "          Type          Region        Make  Gear_Type       Origin    Options  \\\n",
       "0      Corolla            Abha      Toyota     Manual        Saudi   Standard   \n",
       "1        Yukon          Riyadh         GMC  Automatic        Saudi       Full   \n",
       "2  Range Rover          Riyadh  Land Rover  Automatic  Gulf Arabic       Full   \n",
       "3       Optima  Hafar Al-Batin         Kia  Automatic        Saudi  Semi Full   \n",
       "4           FJ          Riyadh      Toyota  Automatic        Saudi       Full   \n",
       "\n",
       "   Year  Engine_Size  Mileage  Negotiable   Price  \n",
       "0  2013          1.4   421000        True       0  \n",
       "1  2014          8.0    80000       False  120000  \n",
       "2  2015          5.0   140000       False  260000  \n",
       "3  2015          2.4   220000       False   42000  \n",
       "4  2020          4.0    49000        True       0  "
      ]
     },
     "execution_count": 90,
     "metadata": {},
     "output_type": "execute_result"
    }
   ],
   "source": [
    "# Melihat sekilas data dengan 5 data teratas\n",
    "data_car.head()"
   ]
  },
  {
   "cell_type": "code",
   "execution_count": 91,
   "metadata": {},
   "outputs": [
    {
     "name": "stdout",
     "output_type": "stream",
     "text": [
      "<class 'pandas.core.frame.DataFrame'>\n",
      "RangeIndex: 5624 entries, 0 to 5623\n",
      "Data columns (total 11 columns):\n",
      " #   Column       Non-Null Count  Dtype  \n",
      "---  ------       --------------  -----  \n",
      " 0   Type         5624 non-null   object \n",
      " 1   Region       5624 non-null   object \n",
      " 2   Make         5624 non-null   object \n",
      " 3   Gear_Type    5624 non-null   object \n",
      " 4   Origin       5624 non-null   object \n",
      " 5   Options      5624 non-null   object \n",
      " 6   Year         5624 non-null   int64  \n",
      " 7   Engine_Size  5624 non-null   float64\n",
      " 8   Mileage      5624 non-null   int64  \n",
      " 9   Negotiable   5624 non-null   bool   \n",
      " 10  Price        5624 non-null   int64  \n",
      "dtypes: bool(1), float64(1), int64(3), object(6)\n",
      "memory usage: 445.0+ KB\n"
     ]
    }
   ],
   "source": [
    "# Detail jenis data di dalam setiap kolom\n",
    "data_car.info()"
   ]
  },
  {
   "cell_type": "markdown",
   "metadata": {},
   "source": [
    "# V. Data Preprocessing"
   ]
  },
  {
   "cell_type": "markdown",
   "metadata": {},
   "source": [
    "Dataset yang digunakan perlu melalui tahap preprocessing untuk memastikan data yang digunakan dalam analisis sudah bersih dan siap diolah lebih lanjut. Data yang bersih akan membantu meningkatkan akurasi analisis, mempercepat proses kerja, dan mempermudah pengambilan keputusan. Beberapa langkah penting yang dilakukan dalam preprocessing antara lain:\n",
    "\n",
    "- Menghapus fitur-fitur yang tidak relevan dengan permasalahan yang sedang dianalisis.\n",
    "- Menangani missing value dengan cara yang sesuai, seperti menghapus entri yang bermasalah atau menggunakan metode imputasi.\n",
    "- Menghapus data yang terdeteksi sebagai duplikasi untuk memastikan kualitas data.\n",
    "- Menyesuaikan tipe data agar sesuai dengan kebutuhan analisis, misalnya mengonversi tipe data numerik atau kategori.\n",
    "\n",
    "Dengan langkah-langkah tersebut, dataset yang dihasilkan akan lebih optimal untuk digunakan dalam proses analisis maupun pemodelan."
   ]
  },
  {
   "cell_type": "markdown",
   "metadata": {},
   "source": [
    "## Data Cleaning    "
   ]
  },
  {
   "cell_type": "code",
   "execution_count": 92,
   "metadata": {},
   "outputs": [],
   "source": [
    "data = data_car.copy()"
   ]
  },
  {
   "cell_type": "markdown",
   "metadata": {},
   "source": [
    "### Checking Missing Value"
   ]
  },
  {
   "cell_type": "code",
   "execution_count": 93,
   "metadata": {},
   "outputs": [
    {
     "data": {
      "text/html": [
       "<div>\n",
       "<style scoped>\n",
       "    .dataframe tbody tr th:only-of-type {\n",
       "        vertical-align: middle;\n",
       "    }\n",
       "\n",
       "    .dataframe tbody tr th {\n",
       "        vertical-align: top;\n",
       "    }\n",
       "\n",
       "    .dataframe thead th {\n",
       "        text-align: right;\n",
       "    }\n",
       "</style>\n",
       "<table border=\"1\" class=\"dataframe\">\n",
       "  <thead>\n",
       "    <tr style=\"text-align: right;\">\n",
       "      <th></th>\n",
       "      <th>Total</th>\n",
       "      <th>Percent</th>\n",
       "    </tr>\n",
       "  </thead>\n",
       "  <tbody>\n",
       "    <tr>\n",
       "      <th>Type</th>\n",
       "      <td>0</td>\n",
       "      <td>0.0</td>\n",
       "    </tr>\n",
       "    <tr>\n",
       "      <th>Region</th>\n",
       "      <td>0</td>\n",
       "      <td>0.0</td>\n",
       "    </tr>\n",
       "    <tr>\n",
       "      <th>Make</th>\n",
       "      <td>0</td>\n",
       "      <td>0.0</td>\n",
       "    </tr>\n",
       "    <tr>\n",
       "      <th>Gear_Type</th>\n",
       "      <td>0</td>\n",
       "      <td>0.0</td>\n",
       "    </tr>\n",
       "    <tr>\n",
       "      <th>Origin</th>\n",
       "      <td>0</td>\n",
       "      <td>0.0</td>\n",
       "    </tr>\n",
       "    <tr>\n",
       "      <th>Options</th>\n",
       "      <td>0</td>\n",
       "      <td>0.0</td>\n",
       "    </tr>\n",
       "    <tr>\n",
       "      <th>Year</th>\n",
       "      <td>0</td>\n",
       "      <td>0.0</td>\n",
       "    </tr>\n",
       "    <tr>\n",
       "      <th>Engine_Size</th>\n",
       "      <td>0</td>\n",
       "      <td>0.0</td>\n",
       "    </tr>\n",
       "    <tr>\n",
       "      <th>Mileage</th>\n",
       "      <td>0</td>\n",
       "      <td>0.0</td>\n",
       "    </tr>\n",
       "    <tr>\n",
       "      <th>Negotiable</th>\n",
       "      <td>0</td>\n",
       "      <td>0.0</td>\n",
       "    </tr>\n",
       "    <tr>\n",
       "      <th>Price</th>\n",
       "      <td>0</td>\n",
       "      <td>0.0</td>\n",
       "    </tr>\n",
       "  </tbody>\n",
       "</table>\n",
       "</div>"
      ],
      "text/plain": [
       "             Total  Percent\n",
       "Type             0      0.0\n",
       "Region           0      0.0\n",
       "Make             0      0.0\n",
       "Gear_Type        0      0.0\n",
       "Origin           0      0.0\n",
       "Options          0      0.0\n",
       "Year             0      0.0\n",
       "Engine_Size      0      0.0\n",
       "Mileage          0      0.0\n",
       "Negotiable       0      0.0\n",
       "Price            0      0.0"
      ]
     },
     "execution_count": 93,
     "metadata": {},
     "output_type": "execute_result"
    }
   ],
   "source": [
    "# Memeriksa missing data\n",
    "total = data.isnull().sum().sort_values(ascending=False)\n",
    "percent = (data.isnull().sum() / data.isnull().count() * 100).sort_values(ascending=False)\n",
    "missing_data_df = pd.concat([total, percent], axis=1, keys=['Total', 'Percent'])\n",
    "missing_data_df.head(20)"
   ]
  },
  {
   "cell_type": "markdown",
   "metadata": {},
   "source": [
    "Tidak terdapat missing value pada data, sehingga tidak diperlukan penangan apapun terhadap data"
   ]
  },
  {
   "cell_type": "markdown",
   "metadata": {},
   "source": [
    "### Checking Duplication"
   ]
  },
  {
   "cell_type": "code",
   "execution_count": 94,
   "metadata": {},
   "outputs": [
    {
     "name": "stdout",
     "output_type": "stream",
     "text": [
      "Jumlah data duplikat: 4\n"
     ]
    }
   ],
   "source": [
    "# Mengecek jumlah data duplikat\n",
    "print(\"Jumlah data duplikat:\", data.duplicated().sum())"
   ]
  },
  {
   "cell_type": "code",
   "execution_count": 95,
   "metadata": {},
   "outputs": [
    {
     "name": "stdout",
     "output_type": "stream",
     "text": [
      "Data duplikat:\n",
      "        Type  Region     Make  Gear_Type Origin   Options  Year  Engine_Size  \\\n",
      "953      Rio  Riyadh      Kia  Automatic  Saudi  Standard  2016          1.4   \n",
      "4646  Sonata  Jeddah  Hyundai  Automatic  Saudi  Standard  2020          2.4   \n",
      "4933  Tucson  Dammam  Hyundai  Automatic  Saudi  Standard  2016          2.0   \n",
      "5267   Camry  Riyadh   Toyota  Automatic  Saudi      Full  2013          2.5   \n",
      "\n",
      "      Mileage  Negotiable  Price  \n",
      "953    270000       False  25000  \n",
      "4646      100       False  72910  \n",
      "4933   155000       False  45000  \n",
      "5267   185000        True      0  \n"
     ]
    }
   ],
   "source": [
    "# Menampilkan data yang duplikat\n",
    "print(\"Data duplikat:\")\n",
    "print(data[data.duplicated()])"
   ]
  },
  {
   "cell_type": "markdown",
   "metadata": {},
   "source": [
    "Terdapat indikasi bahwa ada 4 baris data yang terduplikasi"
   ]
  },
  {
   "cell_type": "code",
   "execution_count": 96,
   "metadata": {},
   "outputs": [],
   "source": [
    "# Mendrop data yang duplikat\n",
    "data = data.drop_duplicates()"
   ]
  },
  {
   "cell_type": "code",
   "execution_count": 97,
   "metadata": {},
   "outputs": [
    {
     "name": "stdout",
     "output_type": "stream",
     "text": [
      "Jumlah data duplikat setelah menghapus duplikat: 0\n"
     ]
    }
   ],
   "source": [
    "# Memastikan data duplikat telah terhapus\n",
    "print(\"Jumlah data duplikat setelah menghapus duplikat:\", data.duplicated().sum())"
   ]
  },
  {
   "cell_type": "markdown",
   "metadata": {},
   "source": [
    "## Memeriksa nilai unik pada setiap kolom"
   ]
  },
  {
   "cell_type": "code",
   "execution_count": 98,
   "metadata": {},
   "outputs": [
    {
     "name": "stdout",
     "output_type": "stream",
     "text": [
      "Kolom 'Type': 347 nilai unik\n",
      "['Corolla' 'Yukon' 'Range Rover' 'Optima' 'FJ' 'CX3' 'Cayenne S' 'Sonata'\n",
      " 'Avalon' 'LS' 'C300' 'Land Cruiser' 'Hilux' 'Tucson' 'Caprice' 'Sunny'\n",
      " 'Pajero' 'Azera' 'Focus' '5' 'Spark' 'Camry' 'Pathfinder' 'Accent' 'ML'\n",
      " 'Tahoe' 'Yaris' 'Suburban' 'A' 'Altima' 'Traverse' 'Expedition'\n",
      " 'Senta fe' 'Liberty' '3' 'X' 'Elantra' 'Land Cruiser Pickup' 'VTC'\n",
      " 'Malibu' 'The 5' 'A8' 'Patrol' 'Grand Cherokee' 'SL' 'Previa' 'SEL'\n",
      " 'Aveo' 'MKZ' 'Victoria' 'Datsun' 'Flex' 'GLC' 'ES' 'Edge' '6' 'Escalade'\n",
      " 'Innova' 'Navara' 'H1' 'G80' 'Carnival' 'Symbol' 'Camaro' 'Accord'\n",
      " 'Avanza' 'Land Cruiser 70' 'Taurus' 'C5700' 'Impala' 'Optra' 'S' 'Other'\n",
      " 'Cerato' 'Furniture' 'Murano' 'Explorer' 'LX' 'Pick up' 'Charger' 'H6'\n",
      " 'BT-50' 'Hiace' 'Ranger' 'Fusion' 'Rav4' 'Ciocca' 'CX9' 'Kona' 'Sentra'\n",
      " 'Sierra' 'Durango' 'CT-S' 'Sylvian Bus' 'Navigator' 'Opirus' 'Marquis'\n",
      " 'The 7' 'FX' 'Creta' 'D-MAX' 'CS35' 'The 3' 'Dyna' 'GLE' 'Sedona'\n",
      " 'Prestige' 'CLA' 'Lumina' 'Vanquish' 'Sorento' 'Safrane' 'Cores' 'Cruze'\n",
      " 'Prado' 'Cadenza' \"D'max\" 'Silverado' 'Rio' 'Maxima' 'X-Trail' 'RX'\n",
      " 'Cressida' 'C' 'Seven' 'Cherokee' 'Grand Marquis' 'H2' 'QX' 'Blazer'\n",
      " 'Wingle' 'Panamera' 'Rush' 'The M' 'Genesis' 'E' 'K5' 'CS95'\n",
      " 'Cayenne Turbo S' 'Civic' 'Echo Sport' 'Challenger' 'CL' 'Wrangler' 'A6'\n",
      " 'Dokker' 'CX5' 'Mohave' 'Ghost' 'Copper' 'Veloster' 'G' 'Jetta' 'IS'\n",
      " 'Thunderbird' 'Fluence' 'V7' 'Vego' 'Aurion' 'Q' 'F3' 'UX' 'Beetle'\n",
      " 'F150' 'Acadia' 'EC7' 'Lancer' 'Capture' 'Van R' 'Mustang' 'CS35 Plus'\n",
      " 'DB9' 'APV' 'Kaptiva' 'Viano' 'Safari' 'Cadillac' 'CLS' 'Duster'\n",
      " 'Platinum' 'Carenz' 'Emgrand' 'Z' 'Coupe S' 'Odyssey' 'Terrain' 'Juke'\n",
      " 'Sportage' 'C200' 'Attrage' 'GS' 'X-Terra' 'Azkarra' 'XF' 'Picanto'\n",
      " 'Armada' 'CT5' 'KICKS' 'Gran Max' 'Cayman' 'Levante' 'Montero' '300'\n",
      " 'POS24' 'A3' 'Touareg' 'Passat' 'Delta' 'H3' 'RX5' 'GS3' 'Coupe'\n",
      " 'New Yorker' 'Cayenne Turbo' 'Colorado' 'Trailblazer' 'Vitara' 'Nativa'\n",
      " 'Van' 'LF X60' 'Koleos' 'Defender' 'Abeka' 'H100' 'Flying Spur' 'Pilot'\n",
      " 'L200' 'A7' 'Quattroporte' 'Bora' 'Compass' 'Bus Urvan' 'Macan'\n",
      " 'Corolla Cross' 'GL' 'City' 'DTS' 'Ertiga' 'Envoy' 'CT6' 'Fleetwood'\n",
      " 'Tiggo' 'GX' 'Q5' 'A4' 'XJ' 'Echo' 'HS' 'Avalanche' 'MKX' 'Seltos' 'SRX'\n",
      " 'RX8' 'SLK' '301' 'EC8' '3008' 'Suvana' 'Prius' 'Cayenne' 'Eado' 'The 6'\n",
      " 'Royal' 'NX' 'Soul' 'CS75' 'H9' 'F-Pace' 'Coolray' 'Maybach' 'CS85'\n",
      " 'Jimny' 'GC7' '360' 'A5' 'S300' 'Superb' 'Ram' 'The 4' 'Grand Vitara'\n",
      " '500' 'Logan' '5008' 'Tiguan' 'Golf' 'S5' '911' 'Boxer' 'Camargue' 'M'\n",
      " 'Daily' 'Nitro' 'CRV' 'Mini Van' 'Pegas' 'L300' 'Coaster' 'Discovery'\n",
      " 'Montero2' 'Bentayga' 'Z370' 'Bus County' 'Stinger' 'SRT' 'CT4' 'F Type'\n",
      " 'CC' 'Koranado' 'ASX' 'Carens' 'Crown' 'ِACTIS V80' 'XT5' 'Tuscani'\n",
      " '4Runner' 'ATS' 'HRV' 'X7' 'Outlander' 'X40' 'Q7' 'ZS' 'G70' 'Megane'\n",
      " 'Nexon' 'Power' 'B50' 'Town Car' '2' 'i40' 'RC' 'Doblo' 'Bronco' 'Dzire'\n",
      " 'Avante' 'Z350' 'CX7' 'Countryman' 'GTB 599 Fiorano' 'Prestige Plus'\n",
      " 'Terios' 'MKS' 'Milan' 'Centennial' 'Dakota' 'Savana' 'S8']\n",
      "Kolom 'Region': 27 nilai unik\n",
      "['Abha' 'Riyadh' 'Hafar Al-Batin' 'Aseer' 'Makkah' 'Dammam' 'Yanbu'\n",
      " 'Al-Baha' 'Jeddah' 'Hail' 'Khobar' 'Al-Ahsa' 'Jazan' 'Al-Medina'\n",
      " 'Al-Namas' 'Tabouk' 'Taef' 'Qassim' 'Arar' 'Jubail' 'Sabya' 'Al-Jouf'\n",
      " 'Najran' 'Wadi Dawasir' 'Qurayyat' 'Sakaka' 'Besha']\n",
      "Kolom 'Make': 58 nilai unik\n",
      "['Toyota' 'GMC' 'Land Rover' 'Kia' 'Mazda' 'Porsche' 'Hyundai' 'Lexus'\n",
      " 'Chrysler' 'Chevrolet' 'Nissan' 'Mitsubishi' 'Ford' 'MG' 'Mercedes'\n",
      " 'Jeep' 'BMW' 'Audi' 'Lincoln' 'Cadillac' 'Genesis' 'Renault' 'Honda'\n",
      " 'Suzuki' 'Zhengzhou' 'Dodge' 'HAVAL' 'INFINITI' 'Isuzu' 'Changan'\n",
      " 'Aston Martin' 'Mercury' 'Great Wall' 'Other' 'Rolls-Royce' 'MINI'\n",
      " 'Volkswagen' 'BYD' 'Geely' 'Victory Auto' 'Classic' 'Jaguar' 'Daihatsu'\n",
      " 'Maserati' 'Hummer' 'GAC' 'Lifan' 'Bentley' 'Chery' 'Peugeot' 'Foton'\n",
      " 'Škoda' 'Fiat' 'Iveco' 'SsangYong' 'FAW' 'Tata' 'Ferrari']\n",
      "Kolom 'Gear_Type': 2 nilai unik\n",
      "['Manual' 'Automatic']\n",
      "Kolom 'Origin': 4 nilai unik\n",
      "['Saudi' 'Gulf Arabic' 'Other' 'Unknown']\n",
      "Kolom 'Options': 3 nilai unik\n",
      "['Standard' 'Full' 'Semi Full']\n",
      "Kolom 'Negotiable': 2 nilai unik\n",
      "[ True False]\n"
     ]
    }
   ],
   "source": [
    "# Menentukan kolom kategorikal berdasarkan tipe data\n",
    "categorical_columns = data.select_dtypes(include=['object', 'bool']).columns\n",
    "\n",
    "# Menampilkan nilai unik untuk setiap kolom kategorikal\n",
    "for column in categorical_columns:\n",
    "    unique_values = data[column].unique()\n",
    "    print(f\"Kolom '{column}': {len(unique_values)} nilai unik\")\n",
    "    print(unique_values)"
   ]
  },
  {
   "cell_type": "code",
   "execution_count": 99,
   "metadata": {},
   "outputs": [
    {
     "data": {
      "text/html": [
       "<div>\n",
       "<style scoped>\n",
       "    .dataframe tbody tr th:only-of-type {\n",
       "        vertical-align: middle;\n",
       "    }\n",
       "\n",
       "    .dataframe tbody tr th {\n",
       "        vertical-align: top;\n",
       "    }\n",
       "\n",
       "    .dataframe thead th {\n",
       "        text-align: right;\n",
       "    }\n",
       "</style>\n",
       "<table border=\"1\" class=\"dataframe\">\n",
       "  <thead>\n",
       "    <tr style=\"text-align: right;\">\n",
       "      <th></th>\n",
       "      <th>Column</th>\n",
       "      <th>Unique Count</th>\n",
       "      <th>Unique Values</th>\n",
       "    </tr>\n",
       "  </thead>\n",
       "  <tbody>\n",
       "    <tr>\n",
       "      <th>0</th>\n",
       "      <td>Type</td>\n",
       "      <td>347</td>\n",
       "      <td>[Corolla, Yukon, Range Rover, Optima, FJ, CX3, Cayenne S, Sonata, Avalon, LS, C300, Land Cruiser, Hilux, Tucson, Caprice, Sunny, Pajero, Azera, Focus, 5, Spark, Camry, Pathfinder, Accent, ML, Tahoe, Yaris, Suburban, A, Altima, Traverse, Expedition, Senta fe, Liberty, 3, X, Elantra, Land Cruiser Pickup, VTC, Malibu, The 5, A8, Patrol, Grand Cherokee, SL, Previa, SEL, Aveo, MKZ, Victoria, Datsun, Flex, GLC, ES, Edge, 6, Escalade, Innova, Navara, H1, G80, Carnival, Symbol, Camaro, Accord, Avanza, Land Cruiser 70, Taurus, C5700, Impala, Optra, S, Other, Cerato, Furniture, Murano, Explorer, LX, Pick up, Charger, H6, BT-50, Hiace, Ranger, Fusion, Rav4, Ciocca, CX9, Kona, Sentra, Sierra, Durango, CT-S, Sylvian Bus, Navigator, Opirus, Marquis, The 7, FX, Creta, ...]</td>\n",
       "    </tr>\n",
       "    <tr>\n",
       "      <th>1</th>\n",
       "      <td>Region</td>\n",
       "      <td>27</td>\n",
       "      <td>[Abha, Riyadh, Hafar Al-Batin, Aseer, Makkah, Dammam, Yanbu, Al-Baha, Jeddah, Hail, Khobar, Al-Ahsa, Jazan, Al-Medina, Al-Namas, Tabouk, Taef, Qassim, Arar, Jubail, Sabya, Al-Jouf, Najran, Wadi Dawasir, Qurayyat, Sakaka, Besha]</td>\n",
       "    </tr>\n",
       "    <tr>\n",
       "      <th>2</th>\n",
       "      <td>Make</td>\n",
       "      <td>58</td>\n",
       "      <td>[Toyota, GMC, Land Rover, Kia, Mazda, Porsche, Hyundai, Lexus, Chrysler, Chevrolet, Nissan, Mitsubishi, Ford, MG, Mercedes, Jeep, BMW, Audi, Lincoln, Cadillac, Genesis, Renault, Honda, Suzuki, Zhengzhou, Dodge, HAVAL, INFINITI, Isuzu, Changan, Aston Martin, Mercury, Great Wall, Other, Rolls-Royce, MINI, Volkswagen, BYD, Geely, Victory Auto, Classic, Jaguar, Daihatsu, Maserati, Hummer, GAC, Lifan, Bentley, Chery, Peugeot, Foton, Škoda, Fiat, Iveco, SsangYong, FAW, Tata, Ferrari]</td>\n",
       "    </tr>\n",
       "    <tr>\n",
       "      <th>3</th>\n",
       "      <td>Gear_Type</td>\n",
       "      <td>2</td>\n",
       "      <td>[Manual, Automatic]</td>\n",
       "    </tr>\n",
       "    <tr>\n",
       "      <th>4</th>\n",
       "      <td>Origin</td>\n",
       "      <td>4</td>\n",
       "      <td>[Saudi, Gulf Arabic, Other, Unknown]</td>\n",
       "    </tr>\n",
       "    <tr>\n",
       "      <th>5</th>\n",
       "      <td>Options</td>\n",
       "      <td>3</td>\n",
       "      <td>[Standard, Full, Semi Full]</td>\n",
       "    </tr>\n",
       "    <tr>\n",
       "      <th>6</th>\n",
       "      <td>Negotiable</td>\n",
       "      <td>2</td>\n",
       "      <td>[True, False]</td>\n",
       "    </tr>\n",
       "  </tbody>\n",
       "</table>\n",
       "</div>"
      ],
      "text/plain": [
       "       Column  Unique Count  \\\n",
       "0        Type           347   \n",
       "1      Region            27   \n",
       "2        Make            58   \n",
       "3   Gear_Type             2   \n",
       "4      Origin             4   \n",
       "5     Options             3   \n",
       "6  Negotiable             2   \n",
       "\n",
       "                                                                                                                                                                                                                                                                                                                                                                                                                                                                                                                                                                                                                                                                                                                                                                                      Unique Values  \n",
       "0  [Corolla, Yukon, Range Rover, Optima, FJ, CX3, Cayenne S, Sonata, Avalon, LS, C300, Land Cruiser, Hilux, Tucson, Caprice, Sunny, Pajero, Azera, Focus, 5, Spark, Camry, Pathfinder, Accent, ML, Tahoe, Yaris, Suburban, A, Altima, Traverse, Expedition, Senta fe, Liberty, 3, X, Elantra, Land Cruiser Pickup, VTC, Malibu, The 5, A8, Patrol, Grand Cherokee, SL, Previa, SEL, Aveo, MKZ, Victoria, Datsun, Flex, GLC, ES, Edge, 6, Escalade, Innova, Navara, H1, G80, Carnival, Symbol, Camaro, Accord, Avanza, Land Cruiser 70, Taurus, C5700, Impala, Optra, S, Other, Cerato, Furniture, Murano, Explorer, LX, Pick up, Charger, H6, BT-50, Hiace, Ranger, Fusion, Rav4, Ciocca, CX9, Kona, Sentra, Sierra, Durango, CT-S, Sylvian Bus, Navigator, Opirus, Marquis, The 7, FX, Creta, ...]  \n",
       "1                                                                                                                                                                                                                                                                                                                                                                                                                                                                                                                                                               [Abha, Riyadh, Hafar Al-Batin, Aseer, Makkah, Dammam, Yanbu, Al-Baha, Jeddah, Hail, Khobar, Al-Ahsa, Jazan, Al-Medina, Al-Namas, Tabouk, Taef, Qassim, Arar, Jubail, Sabya, Al-Jouf, Najran, Wadi Dawasir, Qurayyat, Sakaka, Besha]  \n",
       "2                                                                                                                                                                                                                                                                                                [Toyota, GMC, Land Rover, Kia, Mazda, Porsche, Hyundai, Lexus, Chrysler, Chevrolet, Nissan, Mitsubishi, Ford, MG, Mercedes, Jeep, BMW, Audi, Lincoln, Cadillac, Genesis, Renault, Honda, Suzuki, Zhengzhou, Dodge, HAVAL, INFINITI, Isuzu, Changan, Aston Martin, Mercury, Great Wall, Other, Rolls-Royce, MINI, Volkswagen, BYD, Geely, Victory Auto, Classic, Jaguar, Daihatsu, Maserati, Hummer, GAC, Lifan, Bentley, Chery, Peugeot, Foton, Škoda, Fiat, Iveco, SsangYong, FAW, Tata, Ferrari]  \n",
       "3                                                                                                                                                                                                                                                                                                                                                                                                                                                                                                                                                                                                                                                                                                                                                                               [Manual, Automatic]  \n",
       "4                                                                                                                                                                                                                                                                                                                                                                                                                                                                                                                                                                                                                                                                                                                                                              [Saudi, Gulf Arabic, Other, Unknown]  \n",
       "5                                                                                                                                                                                                                                                                                                                                                                                                                                                                                                                                                                                                                                                                                                                                                                       [Standard, Full, Semi Full]  \n",
       "6                                                                                                                                                                                                                                                                                                                                                                                                                                                                                                                                                                                                                                                                                                                                                                                     [True, False]  "
      ]
     },
     "execution_count": 99,
     "metadata": {},
     "output_type": "execute_result"
    }
   ],
   "source": [
    "# Menampilkan semua konten kolom tanpa terpotong\n",
    "pd.set_option('display.max_colwidth', None) \n",
    "\n",
    "# Menentukan kolom kategorikal\n",
    "categorical_columns = data.select_dtypes(include=['object', 'bool']).columns\n",
    "\n",
    "# Membuat DataFrame untuk menyimpan hasil\n",
    "unique_values_summary = {\n",
    "    'Column': [],\n",
    "    'Unique Count': [],\n",
    "    'Unique Values': []\n",
    "}\n",
    "\n",
    "# Iterasi setiap kolom kategorikal dan simpan informasinya\n",
    "for col in categorical_columns:\n",
    "    unique_values_summary['Column'].append(col)\n",
    "    unique_values_summary['Unique Count'].append(len(data[col].unique()))\n",
    "    unique_values_summary['Unique Values'].append(data[col].unique())\n",
    "\n",
    "# Konversi dictionary menjadi DataFrame\n",
    "unique_values_data = pd.DataFrame(unique_values_summary)\n",
    "\n",
    "# Tampilkan hasil\n",
    "unique_values_data"
   ]
  },
  {
   "cell_type": "markdown",
   "metadata": {},
   "source": [
    "berdasarkan hasil pemeriksaan terdapat nilai 'Unknown' pada kolom origin, nilai tersebut akan dirubah menjadi null dan dianggap sebagi missing data"
   ]
  },
  {
   "cell_type": "code",
   "execution_count": 100,
   "metadata": {},
   "outputs": [
    {
     "data": {
      "text/html": [
       "<div>\n",
       "<style scoped>\n",
       "    .dataframe tbody tr th:only-of-type {\n",
       "        vertical-align: middle;\n",
       "    }\n",
       "\n",
       "    .dataframe tbody tr th {\n",
       "        vertical-align: top;\n",
       "    }\n",
       "\n",
       "    .dataframe thead th {\n",
       "        text-align: right;\n",
       "    }\n",
       "</style>\n",
       "<table border=\"1\" class=\"dataframe\">\n",
       "  <thead>\n",
       "    <tr style=\"text-align: right;\">\n",
       "      <th></th>\n",
       "      <th>Type</th>\n",
       "      <th>Region</th>\n",
       "      <th>Make</th>\n",
       "      <th>Gear_Type</th>\n",
       "      <th>Origin</th>\n",
       "      <th>Options</th>\n",
       "      <th>Year</th>\n",
       "      <th>Engine_Size</th>\n",
       "      <th>Mileage</th>\n",
       "      <th>Negotiable</th>\n",
       "      <th>Price</th>\n",
       "    </tr>\n",
       "  </thead>\n",
       "  <tbody>\n",
       "    <tr>\n",
       "      <th>0</th>\n",
       "      <td>Corolla</td>\n",
       "      <td>Abha</td>\n",
       "      <td>Toyota</td>\n",
       "      <td>Manual</td>\n",
       "      <td>Saudi</td>\n",
       "      <td>Standard</td>\n",
       "      <td>2013</td>\n",
       "      <td>1.4</td>\n",
       "      <td>421000</td>\n",
       "      <td>True</td>\n",
       "      <td>0</td>\n",
       "    </tr>\n",
       "    <tr>\n",
       "      <th>1</th>\n",
       "      <td>Yukon</td>\n",
       "      <td>Riyadh</td>\n",
       "      <td>GMC</td>\n",
       "      <td>Automatic</td>\n",
       "      <td>Saudi</td>\n",
       "      <td>Full</td>\n",
       "      <td>2014</td>\n",
       "      <td>8.0</td>\n",
       "      <td>80000</td>\n",
       "      <td>False</td>\n",
       "      <td>120000</td>\n",
       "    </tr>\n",
       "    <tr>\n",
       "      <th>2</th>\n",
       "      <td>Range Rover</td>\n",
       "      <td>Riyadh</td>\n",
       "      <td>Land Rover</td>\n",
       "      <td>Automatic</td>\n",
       "      <td>Gulf Arabic</td>\n",
       "      <td>Full</td>\n",
       "      <td>2015</td>\n",
       "      <td>5.0</td>\n",
       "      <td>140000</td>\n",
       "      <td>False</td>\n",
       "      <td>260000</td>\n",
       "    </tr>\n",
       "    <tr>\n",
       "      <th>3</th>\n",
       "      <td>Optima</td>\n",
       "      <td>Hafar Al-Batin</td>\n",
       "      <td>Kia</td>\n",
       "      <td>Automatic</td>\n",
       "      <td>Saudi</td>\n",
       "      <td>Semi Full</td>\n",
       "      <td>2015</td>\n",
       "      <td>2.4</td>\n",
       "      <td>220000</td>\n",
       "      <td>False</td>\n",
       "      <td>42000</td>\n",
       "    </tr>\n",
       "    <tr>\n",
       "      <th>4</th>\n",
       "      <td>FJ</td>\n",
       "      <td>Riyadh</td>\n",
       "      <td>Toyota</td>\n",
       "      <td>Automatic</td>\n",
       "      <td>Saudi</td>\n",
       "      <td>Full</td>\n",
       "      <td>2020</td>\n",
       "      <td>4.0</td>\n",
       "      <td>49000</td>\n",
       "      <td>True</td>\n",
       "      <td>0</td>\n",
       "    </tr>\n",
       "    <tr>\n",
       "      <th>...</th>\n",
       "      <td>...</td>\n",
       "      <td>...</td>\n",
       "      <td>...</td>\n",
       "      <td>...</td>\n",
       "      <td>...</td>\n",
       "      <td>...</td>\n",
       "      <td>...</td>\n",
       "      <td>...</td>\n",
       "      <td>...</td>\n",
       "      <td>...</td>\n",
       "      <td>...</td>\n",
       "    </tr>\n",
       "    <tr>\n",
       "      <th>5619</th>\n",
       "      <td>X-Trail</td>\n",
       "      <td>Jeddah</td>\n",
       "      <td>Nissan</td>\n",
       "      <td>Automatic</td>\n",
       "      <td>Saudi</td>\n",
       "      <td>Standard</td>\n",
       "      <td>2018</td>\n",
       "      <td>2.5</td>\n",
       "      <td>78794</td>\n",
       "      <td>False</td>\n",
       "      <td>68000</td>\n",
       "    </tr>\n",
       "    <tr>\n",
       "      <th>5620</th>\n",
       "      <td>Altima</td>\n",
       "      <td>Jeddah</td>\n",
       "      <td>Nissan</td>\n",
       "      <td>Automatic</td>\n",
       "      <td>Saudi</td>\n",
       "      <td>Semi Full</td>\n",
       "      <td>2020</td>\n",
       "      <td>2.5</td>\n",
       "      <td>58000</td>\n",
       "      <td>True</td>\n",
       "      <td>0</td>\n",
       "    </tr>\n",
       "    <tr>\n",
       "      <th>5621</th>\n",
       "      <td>Yukon</td>\n",
       "      <td>Dammam</td>\n",
       "      <td>GMC</td>\n",
       "      <td>Automatic</td>\n",
       "      <td>Saudi</td>\n",
       "      <td>Full</td>\n",
       "      <td>2016</td>\n",
       "      <td>5.3</td>\n",
       "      <td>48000</td>\n",
       "      <td>False</td>\n",
       "      <td>145000</td>\n",
       "    </tr>\n",
       "    <tr>\n",
       "      <th>5622</th>\n",
       "      <td>RX</td>\n",
       "      <td>Dammam</td>\n",
       "      <td>Lexus</td>\n",
       "      <td>Automatic</td>\n",
       "      <td>Gulf Arabic</td>\n",
       "      <td>Full</td>\n",
       "      <td>2016</td>\n",
       "      <td>2.5</td>\n",
       "      <td>81000</td>\n",
       "      <td>False</td>\n",
       "      <td>154000</td>\n",
       "    </tr>\n",
       "    <tr>\n",
       "      <th>5623</th>\n",
       "      <td>ES</td>\n",
       "      <td>Jeddah</td>\n",
       "      <td>Lexus</td>\n",
       "      <td>Automatic</td>\n",
       "      <td>Other</td>\n",
       "      <td>Full</td>\n",
       "      <td>2017</td>\n",
       "      <td>3.5</td>\n",
       "      <td>115000</td>\n",
       "      <td>True</td>\n",
       "      <td>0</td>\n",
       "    </tr>\n",
       "  </tbody>\n",
       "</table>\n",
       "<p>5620 rows × 11 columns</p>\n",
       "</div>"
      ],
      "text/plain": [
       "             Type          Region        Make  Gear_Type       Origin  \\\n",
       "0         Corolla            Abha      Toyota     Manual        Saudi   \n",
       "1           Yukon          Riyadh         GMC  Automatic        Saudi   \n",
       "2     Range Rover          Riyadh  Land Rover  Automatic  Gulf Arabic   \n",
       "3          Optima  Hafar Al-Batin         Kia  Automatic        Saudi   \n",
       "4              FJ          Riyadh      Toyota  Automatic        Saudi   \n",
       "...           ...             ...         ...        ...          ...   \n",
       "5619      X-Trail          Jeddah      Nissan  Automatic        Saudi   \n",
       "5620       Altima          Jeddah      Nissan  Automatic        Saudi   \n",
       "5621        Yukon          Dammam         GMC  Automatic        Saudi   \n",
       "5622           RX          Dammam       Lexus  Automatic  Gulf Arabic   \n",
       "5623           ES          Jeddah       Lexus  Automatic        Other   \n",
       "\n",
       "        Options  Year  Engine_Size  Mileage  Negotiable   Price  \n",
       "0      Standard  2013          1.4   421000        True       0  \n",
       "1          Full  2014          8.0    80000       False  120000  \n",
       "2          Full  2015          5.0   140000       False  260000  \n",
       "3     Semi Full  2015          2.4   220000       False   42000  \n",
       "4          Full  2020          4.0    49000        True       0  \n",
       "...         ...   ...          ...      ...         ...     ...  \n",
       "5619   Standard  2018          2.5    78794       False   68000  \n",
       "5620  Semi Full  2020          2.5    58000        True       0  \n",
       "5621       Full  2016          5.3    48000       False  145000  \n",
       "5622       Full  2016          2.5    81000       False  154000  \n",
       "5623       Full  2017          3.5   115000        True       0  \n",
       "\n",
       "[5620 rows x 11 columns]"
      ]
     },
     "execution_count": 100,
     "metadata": {},
     "output_type": "execute_result"
    }
   ],
   "source": [
    "# merubah nilai unknown menjadi null\n",
    "data.replace(to_replace='Unknown', value=np.nan)"
   ]
  },
  {
   "cell_type": "code",
   "execution_count": 101,
   "metadata": {},
   "outputs": [
    {
     "data": {
      "text/html": [
       "<div>\n",
       "<style scoped>\n",
       "    .dataframe tbody tr th:only-of-type {\n",
       "        vertical-align: middle;\n",
       "    }\n",
       "\n",
       "    .dataframe tbody tr th {\n",
       "        vertical-align: top;\n",
       "    }\n",
       "\n",
       "    .dataframe thead th {\n",
       "        text-align: right;\n",
       "    }\n",
       "</style>\n",
       "<table border=\"1\" class=\"dataframe\">\n",
       "  <thead>\n",
       "    <tr style=\"text-align: right;\">\n",
       "      <th></th>\n",
       "      <th>Type</th>\n",
       "      <th>Region</th>\n",
       "      <th>Make</th>\n",
       "      <th>Gear_Type</th>\n",
       "      <th>Origin</th>\n",
       "      <th>Options</th>\n",
       "      <th>Year</th>\n",
       "      <th>Engine_Size</th>\n",
       "      <th>Mileage</th>\n",
       "      <th>Negotiable</th>\n",
       "      <th>Price</th>\n",
       "    </tr>\n",
       "  </thead>\n",
       "  <tbody>\n",
       "    <tr>\n",
       "      <th>0</th>\n",
       "      <td>Corolla</td>\n",
       "      <td>Abha</td>\n",
       "      <td>Toyota</td>\n",
       "      <td>Manual</td>\n",
       "      <td>Saudi</td>\n",
       "      <td>Standard</td>\n",
       "      <td>2013</td>\n",
       "      <td>1.4</td>\n",
       "      <td>421000</td>\n",
       "      <td>True</td>\n",
       "      <td>0</td>\n",
       "    </tr>\n",
       "    <tr>\n",
       "      <th>1</th>\n",
       "      <td>Yukon</td>\n",
       "      <td>Riyadh</td>\n",
       "      <td>GMC</td>\n",
       "      <td>Automatic</td>\n",
       "      <td>Saudi</td>\n",
       "      <td>Full</td>\n",
       "      <td>2014</td>\n",
       "      <td>8.0</td>\n",
       "      <td>80000</td>\n",
       "      <td>False</td>\n",
       "      <td>120000</td>\n",
       "    </tr>\n",
       "    <tr>\n",
       "      <th>2</th>\n",
       "      <td>Range Rover</td>\n",
       "      <td>Riyadh</td>\n",
       "      <td>Land Rover</td>\n",
       "      <td>Automatic</td>\n",
       "      <td>Gulf Arabic</td>\n",
       "      <td>Full</td>\n",
       "      <td>2015</td>\n",
       "      <td>5.0</td>\n",
       "      <td>140000</td>\n",
       "      <td>False</td>\n",
       "      <td>260000</td>\n",
       "    </tr>\n",
       "    <tr>\n",
       "      <th>3</th>\n",
       "      <td>Optima</td>\n",
       "      <td>Hafar Al-Batin</td>\n",
       "      <td>Kia</td>\n",
       "      <td>Automatic</td>\n",
       "      <td>Saudi</td>\n",
       "      <td>Semi Full</td>\n",
       "      <td>2015</td>\n",
       "      <td>2.4</td>\n",
       "      <td>220000</td>\n",
       "      <td>False</td>\n",
       "      <td>42000</td>\n",
       "    </tr>\n",
       "    <tr>\n",
       "      <th>4</th>\n",
       "      <td>FJ</td>\n",
       "      <td>Riyadh</td>\n",
       "      <td>Toyota</td>\n",
       "      <td>Automatic</td>\n",
       "      <td>Saudi</td>\n",
       "      <td>Full</td>\n",
       "      <td>2020</td>\n",
       "      <td>4.0</td>\n",
       "      <td>49000</td>\n",
       "      <td>True</td>\n",
       "      <td>0</td>\n",
       "    </tr>\n",
       "    <tr>\n",
       "      <th>...</th>\n",
       "      <td>...</td>\n",
       "      <td>...</td>\n",
       "      <td>...</td>\n",
       "      <td>...</td>\n",
       "      <td>...</td>\n",
       "      <td>...</td>\n",
       "      <td>...</td>\n",
       "      <td>...</td>\n",
       "      <td>...</td>\n",
       "      <td>...</td>\n",
       "      <td>...</td>\n",
       "    </tr>\n",
       "    <tr>\n",
       "      <th>5619</th>\n",
       "      <td>X-Trail</td>\n",
       "      <td>Jeddah</td>\n",
       "      <td>Nissan</td>\n",
       "      <td>Automatic</td>\n",
       "      <td>Saudi</td>\n",
       "      <td>Standard</td>\n",
       "      <td>2018</td>\n",
       "      <td>2.5</td>\n",
       "      <td>78794</td>\n",
       "      <td>False</td>\n",
       "      <td>68000</td>\n",
       "    </tr>\n",
       "    <tr>\n",
       "      <th>5620</th>\n",
       "      <td>Altima</td>\n",
       "      <td>Jeddah</td>\n",
       "      <td>Nissan</td>\n",
       "      <td>Automatic</td>\n",
       "      <td>Saudi</td>\n",
       "      <td>Semi Full</td>\n",
       "      <td>2020</td>\n",
       "      <td>2.5</td>\n",
       "      <td>58000</td>\n",
       "      <td>True</td>\n",
       "      <td>0</td>\n",
       "    </tr>\n",
       "    <tr>\n",
       "      <th>5621</th>\n",
       "      <td>Yukon</td>\n",
       "      <td>Dammam</td>\n",
       "      <td>GMC</td>\n",
       "      <td>Automatic</td>\n",
       "      <td>Saudi</td>\n",
       "      <td>Full</td>\n",
       "      <td>2016</td>\n",
       "      <td>5.3</td>\n",
       "      <td>48000</td>\n",
       "      <td>False</td>\n",
       "      <td>145000</td>\n",
       "    </tr>\n",
       "    <tr>\n",
       "      <th>5622</th>\n",
       "      <td>RX</td>\n",
       "      <td>Dammam</td>\n",
       "      <td>Lexus</td>\n",
       "      <td>Automatic</td>\n",
       "      <td>Gulf Arabic</td>\n",
       "      <td>Full</td>\n",
       "      <td>2016</td>\n",
       "      <td>2.5</td>\n",
       "      <td>81000</td>\n",
       "      <td>False</td>\n",
       "      <td>154000</td>\n",
       "    </tr>\n",
       "    <tr>\n",
       "      <th>5623</th>\n",
       "      <td>ES</td>\n",
       "      <td>Jeddah</td>\n",
       "      <td>Lexus</td>\n",
       "      <td>Automatic</td>\n",
       "      <td>Other</td>\n",
       "      <td>Full</td>\n",
       "      <td>2017</td>\n",
       "      <td>3.5</td>\n",
       "      <td>115000</td>\n",
       "      <td>True</td>\n",
       "      <td>0</td>\n",
       "    </tr>\n",
       "  </tbody>\n",
       "</table>\n",
       "<p>5620 rows × 11 columns</p>\n",
       "</div>"
      ],
      "text/plain": [
       "             Type          Region        Make  Gear_Type       Origin  \\\n",
       "0         Corolla            Abha      Toyota     Manual        Saudi   \n",
       "1           Yukon          Riyadh         GMC  Automatic        Saudi   \n",
       "2     Range Rover          Riyadh  Land Rover  Automatic  Gulf Arabic   \n",
       "3          Optima  Hafar Al-Batin         Kia  Automatic        Saudi   \n",
       "4              FJ          Riyadh      Toyota  Automatic        Saudi   \n",
       "...           ...             ...         ...        ...          ...   \n",
       "5619      X-Trail          Jeddah      Nissan  Automatic        Saudi   \n",
       "5620       Altima          Jeddah      Nissan  Automatic        Saudi   \n",
       "5621        Yukon          Dammam         GMC  Automatic        Saudi   \n",
       "5622           RX          Dammam       Lexus  Automatic  Gulf Arabic   \n",
       "5623           ES          Jeddah       Lexus  Automatic        Other   \n",
       "\n",
       "        Options  Year  Engine_Size  Mileage  Negotiable   Price  \n",
       "0      Standard  2013          1.4   421000        True       0  \n",
       "1          Full  2014          8.0    80000       False  120000  \n",
       "2          Full  2015          5.0   140000       False  260000  \n",
       "3     Semi Full  2015          2.4   220000       False   42000  \n",
       "4          Full  2020          4.0    49000        True       0  \n",
       "...         ...   ...          ...      ...         ...     ...  \n",
       "5619   Standard  2018          2.5    78794       False   68000  \n",
       "5620  Semi Full  2020          2.5    58000        True       0  \n",
       "5621       Full  2016          5.3    48000       False  145000  \n",
       "5622       Full  2016          2.5    81000       False  154000  \n",
       "5623       Full  2017          3.5   115000        True       0  \n",
       "\n",
       "[5620 rows x 11 columns]"
      ]
     },
     "execution_count": 101,
     "metadata": {},
     "output_type": "execute_result"
    }
   ],
   "source": [
    "# menghilangkan baris data yang memiliki nilai null\n",
    "data = data.dropna(axis=0)\n",
    "data"
   ]
  },
  {
   "cell_type": "code",
   "execution_count": 102,
   "metadata": {},
   "outputs": [
    {
     "data": {
      "text/plain": [
       "Type           0\n",
       "Region         0\n",
       "Make           0\n",
       "Gear_Type      0\n",
       "Origin         0\n",
       "Options        0\n",
       "Year           0\n",
       "Engine_Size    0\n",
       "Mileage        0\n",
       "Negotiable     0\n",
       "Price          0\n",
       "dtype: int64"
      ]
     },
     "execution_count": 102,
     "metadata": {},
     "output_type": "execute_result"
    }
   ],
   "source": [
    "# Memeriksa kembali apakah masih terdapat missing data\n",
    "data.isnull().sum()"
   ]
  },
  {
   "cell_type": "markdown",
   "metadata": {},
   "source": [
    "Data sudah bersih dari missing value yang ada, pada kolom diatas terlihat tidak terdapat lagi missing value pada data."
   ]
  },
  {
   "cell_type": "markdown",
   "metadata": {},
   "source": [
    "## Data Correlation"
   ]
  },
  {
   "cell_type": "markdown",
   "metadata": {},
   "source": [
    "Korelasi pada data akan dilihat dengan module phik, modul ini digunakan karena dapat melihat secara langsung korelasi antara data numerical dan kategorikal yang efektif digunakan pada data yang tidak terlalu besar sehingga memudahkan pengerjaan.\n",
    "\n",
    "Documentantion: https://phik.readthedocs.io/en/latest/"
   ]
  },
  {
   "cell_type": "code",
   "execution_count": 103,
   "metadata": {},
   "outputs": [
    {
     "name": "stdout",
     "output_type": "stream",
     "text": [
      "interval columns not set, guessing: ['Year', 'Engine_Size', 'Mileage', 'Price']\n"
     ]
    }
   ],
   "source": [
    "correlation_matrix = phik_matrix(data)"
   ]
  },
  {
   "cell_type": "code",
   "execution_count": 104,
   "metadata": {},
   "outputs": [
    {
     "data": {
      "text/html": [
       "<div>\n",
       "<style scoped>\n",
       "    .dataframe tbody tr th:only-of-type {\n",
       "        vertical-align: middle;\n",
       "    }\n",
       "\n",
       "    .dataframe tbody tr th {\n",
       "        vertical-align: top;\n",
       "    }\n",
       "\n",
       "    .dataframe thead th {\n",
       "        text-align: right;\n",
       "    }\n",
       "</style>\n",
       "<table border=\"1\" class=\"dataframe\">\n",
       "  <thead>\n",
       "    <tr style=\"text-align: right;\">\n",
       "      <th></th>\n",
       "      <th>Type</th>\n",
       "      <th>Region</th>\n",
       "      <th>Make</th>\n",
       "      <th>Gear_Type</th>\n",
       "      <th>Origin</th>\n",
       "      <th>Options</th>\n",
       "      <th>Year</th>\n",
       "      <th>Engine_Size</th>\n",
       "      <th>Mileage</th>\n",
       "      <th>Negotiable</th>\n",
       "      <th>Price</th>\n",
       "    </tr>\n",
       "  </thead>\n",
       "  <tbody>\n",
       "    <tr>\n",
       "      <th>Type</th>\n",
       "      <td>1.000000</td>\n",
       "      <td>0.000000</td>\n",
       "      <td>0.999957</td>\n",
       "      <td>0.888490</td>\n",
       "      <td>0.465320</td>\n",
       "      <td>0.670104</td>\n",
       "      <td>0.819814</td>\n",
       "      <td>0.931150</td>\n",
       "      <td>0.653745</td>\n",
       "      <td>0.225069</td>\n",
       "      <td>0.779089</td>\n",
       "    </tr>\n",
       "    <tr>\n",
       "      <th>Region</th>\n",
       "      <td>0.000000</td>\n",
       "      <td>1.000000</td>\n",
       "      <td>0.317287</td>\n",
       "      <td>0.181414</td>\n",
       "      <td>0.182002</td>\n",
       "      <td>0.191363</td>\n",
       "      <td>0.252101</td>\n",
       "      <td>0.174688</td>\n",
       "      <td>0.108756</td>\n",
       "      <td>0.261937</td>\n",
       "      <td>0.000000</td>\n",
       "    </tr>\n",
       "    <tr>\n",
       "      <th>Make</th>\n",
       "      <td>0.999957</td>\n",
       "      <td>0.317287</td>\n",
       "      <td>1.000000</td>\n",
       "      <td>0.555626</td>\n",
       "      <td>0.367977</td>\n",
       "      <td>0.488892</td>\n",
       "      <td>0.368021</td>\n",
       "      <td>0.689912</td>\n",
       "      <td>0.000000</td>\n",
       "      <td>0.150742</td>\n",
       "      <td>0.628031</td>\n",
       "    </tr>\n",
       "    <tr>\n",
       "      <th>Gear_Type</th>\n",
       "      <td>0.888490</td>\n",
       "      <td>0.181414</td>\n",
       "      <td>0.555626</td>\n",
       "      <td>1.000000</td>\n",
       "      <td>0.035153</td>\n",
       "      <td>0.046515</td>\n",
       "      <td>0.259646</td>\n",
       "      <td>0.329464</td>\n",
       "      <td>0.033102</td>\n",
       "      <td>0.183471</td>\n",
       "      <td>0.145271</td>\n",
       "    </tr>\n",
       "    <tr>\n",
       "      <th>Origin</th>\n",
       "      <td>0.465320</td>\n",
       "      <td>0.182002</td>\n",
       "      <td>0.367977</td>\n",
       "      <td>0.035153</td>\n",
       "      <td>1.000000</td>\n",
       "      <td>0.136269</td>\n",
       "      <td>0.171327</td>\n",
       "      <td>0.135952</td>\n",
       "      <td>0.024122</td>\n",
       "      <td>0.158828</td>\n",
       "      <td>0.164681</td>\n",
       "    </tr>\n",
       "    <tr>\n",
       "      <th>Options</th>\n",
       "      <td>0.670104</td>\n",
       "      <td>0.191363</td>\n",
       "      <td>0.488892</td>\n",
       "      <td>0.046515</td>\n",
       "      <td>0.136269</td>\n",
       "      <td>1.000000</td>\n",
       "      <td>0.208469</td>\n",
       "      <td>0.377615</td>\n",
       "      <td>0.000000</td>\n",
       "      <td>0.040775</td>\n",
       "      <td>0.293814</td>\n",
       "    </tr>\n",
       "    <tr>\n",
       "      <th>Year</th>\n",
       "      <td>0.819814</td>\n",
       "      <td>0.252101</td>\n",
       "      <td>0.368021</td>\n",
       "      <td>0.259646</td>\n",
       "      <td>0.171327</td>\n",
       "      <td>0.208469</td>\n",
       "      <td>1.000000</td>\n",
       "      <td>0.285575</td>\n",
       "      <td>0.252847</td>\n",
       "      <td>0.205772</td>\n",
       "      <td>0.203676</td>\n",
       "    </tr>\n",
       "    <tr>\n",
       "      <th>Engine_Size</th>\n",
       "      <td>0.931150</td>\n",
       "      <td>0.174688</td>\n",
       "      <td>0.689912</td>\n",
       "      <td>0.329464</td>\n",
       "      <td>0.135952</td>\n",
       "      <td>0.377615</td>\n",
       "      <td>0.285575</td>\n",
       "      <td>1.000000</td>\n",
       "      <td>0.154877</td>\n",
       "      <td>0.188474</td>\n",
       "      <td>0.301097</td>\n",
       "    </tr>\n",
       "    <tr>\n",
       "      <th>Mileage</th>\n",
       "      <td>0.653745</td>\n",
       "      <td>0.108756</td>\n",
       "      <td>0.000000</td>\n",
       "      <td>0.033102</td>\n",
       "      <td>0.024122</td>\n",
       "      <td>0.000000</td>\n",
       "      <td>0.252847</td>\n",
       "      <td>0.154877</td>\n",
       "      <td>1.000000</td>\n",
       "      <td>0.022216</td>\n",
       "      <td>0.000000</td>\n",
       "    </tr>\n",
       "    <tr>\n",
       "      <th>Negotiable</th>\n",
       "      <td>0.225069</td>\n",
       "      <td>0.261937</td>\n",
       "      <td>0.150742</td>\n",
       "      <td>0.183471</td>\n",
       "      <td>0.158828</td>\n",
       "      <td>0.040775</td>\n",
       "      <td>0.205772</td>\n",
       "      <td>0.188474</td>\n",
       "      <td>0.022216</td>\n",
       "      <td>1.000000</td>\n",
       "      <td>0.426078</td>\n",
       "    </tr>\n",
       "    <tr>\n",
       "      <th>Price</th>\n",
       "      <td>0.779089</td>\n",
       "      <td>0.000000</td>\n",
       "      <td>0.628031</td>\n",
       "      <td>0.145271</td>\n",
       "      <td>0.164681</td>\n",
       "      <td>0.293814</td>\n",
       "      <td>0.203676</td>\n",
       "      <td>0.301097</td>\n",
       "      <td>0.000000</td>\n",
       "      <td>0.426078</td>\n",
       "      <td>1.000000</td>\n",
       "    </tr>\n",
       "  </tbody>\n",
       "</table>\n",
       "</div>"
      ],
      "text/plain": [
       "                 Type    Region      Make  Gear_Type    Origin   Options  \\\n",
       "Type         1.000000  0.000000  0.999957   0.888490  0.465320  0.670104   \n",
       "Region       0.000000  1.000000  0.317287   0.181414  0.182002  0.191363   \n",
       "Make         0.999957  0.317287  1.000000   0.555626  0.367977  0.488892   \n",
       "Gear_Type    0.888490  0.181414  0.555626   1.000000  0.035153  0.046515   \n",
       "Origin       0.465320  0.182002  0.367977   0.035153  1.000000  0.136269   \n",
       "Options      0.670104  0.191363  0.488892   0.046515  0.136269  1.000000   \n",
       "Year         0.819814  0.252101  0.368021   0.259646  0.171327  0.208469   \n",
       "Engine_Size  0.931150  0.174688  0.689912   0.329464  0.135952  0.377615   \n",
       "Mileage      0.653745  0.108756  0.000000   0.033102  0.024122  0.000000   \n",
       "Negotiable   0.225069  0.261937  0.150742   0.183471  0.158828  0.040775   \n",
       "Price        0.779089  0.000000  0.628031   0.145271  0.164681  0.293814   \n",
       "\n",
       "                 Year  Engine_Size   Mileage  Negotiable     Price  \n",
       "Type         0.819814     0.931150  0.653745    0.225069  0.779089  \n",
       "Region       0.252101     0.174688  0.108756    0.261937  0.000000  \n",
       "Make         0.368021     0.689912  0.000000    0.150742  0.628031  \n",
       "Gear_Type    0.259646     0.329464  0.033102    0.183471  0.145271  \n",
       "Origin       0.171327     0.135952  0.024122    0.158828  0.164681  \n",
       "Options      0.208469     0.377615  0.000000    0.040775  0.293814  \n",
       "Year         1.000000     0.285575  0.252847    0.205772  0.203676  \n",
       "Engine_Size  0.285575     1.000000  0.154877    0.188474  0.301097  \n",
       "Mileage      0.252847     0.154877  1.000000    0.022216  0.000000  \n",
       "Negotiable   0.205772     0.188474  0.022216    1.000000  0.426078  \n",
       "Price        0.203676     0.301097  0.000000    0.426078  1.000000  "
      ]
     },
     "execution_count": 104,
     "metadata": {},
     "output_type": "execute_result"
    }
   ],
   "source": [
    "correlation_matrix"
   ]
  },
  {
   "cell_type": "code",
   "execution_count": 105,
   "metadata": {},
   "outputs": [
    {
     "data": {
      "image/png": "[encoded data removed]",
      "text/plain": [
       "<Figure size 1000x800 with 2 Axes>"
      ]
     },
     "metadata": {},
     "output_type": "display_data"
    }
   ],
   "source": [
    "# Create heatmap from correlation_matrix temp\n",
    "plt.figure(figsize=(10, 8))\n",
    "sns.heatmap(correlation_matrix, annot=True, cmap='coolwarm')\n",
    "plt.title('PhiXk Correlation Heatmap Temp')\n",
    "plt.show()"
   ]
  },
  {
   "cell_type": "markdown",
   "metadata": {},
   "source": [
    "Berdasarkan matriks korelasi di atas dapat disimpulkan bahwa variabel yang memiliki nilai korelasi cukup tinggi pada variabel 'Price' (yang merupakan data target) adalah varibael 'Type', 'Make', 'Negotiable', 'Options', dan 'Engine_Size'. Sedangkan variabel yang masih memiliki korelasi terhadap 'Price' walaupun kecil adalah variabel 'Gear_Type' dan 'Origin'. Sedangkan variabel 'Region' dan 'Mileage' tidak memiliki korelasi sama sekali. \n",
    "\n",
    "Hal ini dapat membantu dalam feature selection, dimana dapat diperkirakan bahwa varibael 'Type', 'Make', 'Negotiable', 'Options', dan 'Engine_Size' merupakan variabel yang relevan untuk digunakan sebagai feature pada machine learning sedangkan variabel 'Region' dan 'Mileage' dapat langsung di drop karena tidak berpengaruh terhadap 'Price' sama sekali."
   ]
  },
  {
   "cell_type": "code",
   "execution_count": 106,
   "metadata": {},
   "outputs": [],
   "source": [
    "# Drop kolom yang tidak digunakan sebagai feature\n",
    "data = data.drop(['Region','Mileage'],axis=1)"
   ]
  },
  {
   "cell_type": "code",
   "execution_count": 107,
   "metadata": {},
   "outputs": [
    {
     "data": {
      "text/html": [
       "<div>\n",
       "<style scoped>\n",
       "    .dataframe tbody tr th:only-of-type {\n",
       "        vertical-align: middle;\n",
       "    }\n",
       "\n",
       "    .dataframe tbody tr th {\n",
       "        vertical-align: top;\n",
       "    }\n",
       "\n",
       "    .dataframe thead th {\n",
       "        text-align: right;\n",
       "    }\n",
       "</style>\n",
       "<table border=\"1\" class=\"dataframe\">\n",
       "  <thead>\n",
       "    <tr style=\"text-align: right;\">\n",
       "      <th></th>\n",
       "      <th>Type</th>\n",
       "      <th>Make</th>\n",
       "      <th>Gear_Type</th>\n",
       "      <th>Origin</th>\n",
       "      <th>Options</th>\n",
       "      <th>Year</th>\n",
       "      <th>Engine_Size</th>\n",
       "      <th>Negotiable</th>\n",
       "      <th>Price</th>\n",
       "    </tr>\n",
       "  </thead>\n",
       "  <tbody>\n",
       "    <tr>\n",
       "      <th>0</th>\n",
       "      <td>Corolla</td>\n",
       "      <td>Toyota</td>\n",
       "      <td>Manual</td>\n",
       "      <td>Saudi</td>\n",
       "      <td>Standard</td>\n",
       "      <td>2013</td>\n",
       "      <td>1.4</td>\n",
       "      <td>True</td>\n",
       "      <td>0</td>\n",
       "    </tr>\n",
       "    <tr>\n",
       "      <th>1</th>\n",
       "      <td>Yukon</td>\n",
       "      <td>GMC</td>\n",
       "      <td>Automatic</td>\n",
       "      <td>Saudi</td>\n",
       "      <td>Full</td>\n",
       "      <td>2014</td>\n",
       "      <td>8.0</td>\n",
       "      <td>False</td>\n",
       "      <td>120000</td>\n",
       "    </tr>\n",
       "    <tr>\n",
       "      <th>2</th>\n",
       "      <td>Range Rover</td>\n",
       "      <td>Land Rover</td>\n",
       "      <td>Automatic</td>\n",
       "      <td>Gulf Arabic</td>\n",
       "      <td>Full</td>\n",
       "      <td>2015</td>\n",
       "      <td>5.0</td>\n",
       "      <td>False</td>\n",
       "      <td>260000</td>\n",
       "    </tr>\n",
       "    <tr>\n",
       "      <th>3</th>\n",
       "      <td>Optima</td>\n",
       "      <td>Kia</td>\n",
       "      <td>Automatic</td>\n",
       "      <td>Saudi</td>\n",
       "      <td>Semi Full</td>\n",
       "      <td>2015</td>\n",
       "      <td>2.4</td>\n",
       "      <td>False</td>\n",
       "      <td>42000</td>\n",
       "    </tr>\n",
       "    <tr>\n",
       "      <th>4</th>\n",
       "      <td>FJ</td>\n",
       "      <td>Toyota</td>\n",
       "      <td>Automatic</td>\n",
       "      <td>Saudi</td>\n",
       "      <td>Full</td>\n",
       "      <td>2020</td>\n",
       "      <td>4.0</td>\n",
       "      <td>True</td>\n",
       "      <td>0</td>\n",
       "    </tr>\n",
       "    <tr>\n",
       "      <th>...</th>\n",
       "      <td>...</td>\n",
       "      <td>...</td>\n",
       "      <td>...</td>\n",
       "      <td>...</td>\n",
       "      <td>...</td>\n",
       "      <td>...</td>\n",
       "      <td>...</td>\n",
       "      <td>...</td>\n",
       "      <td>...</td>\n",
       "    </tr>\n",
       "    <tr>\n",
       "      <th>5619</th>\n",
       "      <td>X-Trail</td>\n",
       "      <td>Nissan</td>\n",
       "      <td>Automatic</td>\n",
       "      <td>Saudi</td>\n",
       "      <td>Standard</td>\n",
       "      <td>2018</td>\n",
       "      <td>2.5</td>\n",
       "      <td>False</td>\n",
       "      <td>68000</td>\n",
       "    </tr>\n",
       "    <tr>\n",
       "      <th>5620</th>\n",
       "      <td>Altima</td>\n",
       "      <td>Nissan</td>\n",
       "      <td>Automatic</td>\n",
       "      <td>Saudi</td>\n",
       "      <td>Semi Full</td>\n",
       "      <td>2020</td>\n",
       "      <td>2.5</td>\n",
       "      <td>True</td>\n",
       "      <td>0</td>\n",
       "    </tr>\n",
       "    <tr>\n",
       "      <th>5621</th>\n",
       "      <td>Yukon</td>\n",
       "      <td>GMC</td>\n",
       "      <td>Automatic</td>\n",
       "      <td>Saudi</td>\n",
       "      <td>Full</td>\n",
       "      <td>2016</td>\n",
       "      <td>5.3</td>\n",
       "      <td>False</td>\n",
       "      <td>145000</td>\n",
       "    </tr>\n",
       "    <tr>\n",
       "      <th>5622</th>\n",
       "      <td>RX</td>\n",
       "      <td>Lexus</td>\n",
       "      <td>Automatic</td>\n",
       "      <td>Gulf Arabic</td>\n",
       "      <td>Full</td>\n",
       "      <td>2016</td>\n",
       "      <td>2.5</td>\n",
       "      <td>False</td>\n",
       "      <td>154000</td>\n",
       "    </tr>\n",
       "    <tr>\n",
       "      <th>5623</th>\n",
       "      <td>ES</td>\n",
       "      <td>Lexus</td>\n",
       "      <td>Automatic</td>\n",
       "      <td>Other</td>\n",
       "      <td>Full</td>\n",
       "      <td>2017</td>\n",
       "      <td>3.5</td>\n",
       "      <td>True</td>\n",
       "      <td>0</td>\n",
       "    </tr>\n",
       "  </tbody>\n",
       "</table>\n",
       "<p>5620 rows × 9 columns</p>\n",
       "</div>"
      ],
      "text/plain": [
       "             Type        Make  Gear_Type       Origin    Options  Year  \\\n",
       "0         Corolla      Toyota     Manual        Saudi   Standard  2013   \n",
       "1           Yukon         GMC  Automatic        Saudi       Full  2014   \n",
       "2     Range Rover  Land Rover  Automatic  Gulf Arabic       Full  2015   \n",
       "3          Optima         Kia  Automatic        Saudi  Semi Full  2015   \n",
       "4              FJ      Toyota  Automatic        Saudi       Full  2020   \n",
       "...           ...         ...        ...          ...        ...   ...   \n",
       "5619      X-Trail      Nissan  Automatic        Saudi   Standard  2018   \n",
       "5620       Altima      Nissan  Automatic        Saudi  Semi Full  2020   \n",
       "5621        Yukon         GMC  Automatic        Saudi       Full  2016   \n",
       "5622           RX       Lexus  Automatic  Gulf Arabic       Full  2016   \n",
       "5623           ES       Lexus  Automatic        Other       Full  2017   \n",
       "\n",
       "      Engine_Size  Negotiable   Price  \n",
       "0             1.4        True       0  \n",
       "1             8.0       False  120000  \n",
       "2             5.0       False  260000  \n",
       "3             2.4       False   42000  \n",
       "4             4.0        True       0  \n",
       "...           ...         ...     ...  \n",
       "5619          2.5       False   68000  \n",
       "5620          2.5        True       0  \n",
       "5621          5.3       False  145000  \n",
       "5622          2.5       False  154000  \n",
       "5623          3.5        True       0  \n",
       "\n",
       "[5620 rows x 9 columns]"
      ]
     },
     "execution_count": 107,
     "metadata": {},
     "output_type": "execute_result"
    }
   ],
   "source": [
    "data"
   ]
  },
  {
   "cell_type": "markdown",
   "metadata": {},
   "source": [
    "Berdasarkan hasil analisis diatas, sudah didapatkan data yang bersih serta penentuan feature awal, dimana feature yang tidak memiliki korelasi kepada data target (Price) sudah di drop untuk memudahkan pengerjaan dalam pembuatan model."
   ]
  },
  {
   "cell_type": "markdown",
   "metadata": {},
   "source": [
    "# VI. Feature Engineering"
   ]
  },
  {
   "cell_type": "markdown",
   "metadata": {},
   "source": [
    "## Splitting Data Target (Y) dan Feature (X)"
   ]
  },
  {
   "cell_type": "code",
   "execution_count": 108,
   "metadata": {},
   "outputs": [],
   "source": [
    "dfml= data"
   ]
  },
  {
   "cell_type": "code",
   "execution_count": 109,
   "metadata": {},
   "outputs": [],
   "source": [
    "# Menentukan data feature (X) dan data target (y)\n",
    "X = dfml.drop(['Price'],axis=1)\n",
    "y = pd.DataFrame(dfml['Price'])"
   ]
  },
  {
   "cell_type": "code",
   "execution_count": 110,
   "metadata": {},
   "outputs": [
    {
     "name": "stdout",
     "output_type": "stream",
     "text": [
      "Train Size :  (3934, 8)\n",
      "Test Size :  (1686, 8)\n"
     ]
    }
   ],
   "source": [
    "# Split between Train-Set,and Test-Set\n",
    "# Splitting dilakukan dengan membagi data menjadi Train-Set (70) : Test-Set (30)\n",
    "\n",
    "X_train, X_test, y_train, y_test = train_test_split(X, y, test_size=0.3, random_state=42)\n",
    "\n",
    "print('Train Size : ', X_train.shape)\n",
    "print('Test Size : ', X_test.shape)"
   ]
  },
  {
   "cell_type": "markdown",
   "metadata": {},
   "source": [
    "## Scaling and Encoding"
   ]
  },
  {
   "cell_type": "code",
   "execution_count": 111,
   "metadata": {},
   "outputs": [
    {
     "name": "stdout",
     "output_type": "stream",
     "text": [
      "<class 'pandas.core.frame.DataFrame'>\n",
      "Index: 3934 entries, 270 to 860\n",
      "Data columns (total 8 columns):\n",
      " #   Column       Non-Null Count  Dtype  \n",
      "---  ------       --------------  -----  \n",
      " 0   Type         3934 non-null   object \n",
      " 1   Make         3934 non-null   object \n",
      " 2   Gear_Type    3934 non-null   object \n",
      " 3   Origin       3934 non-null   object \n",
      " 4   Options      3934 non-null   object \n",
      " 5   Year         3934 non-null   int64  \n",
      " 6   Engine_Size  3934 non-null   float64\n",
      " 7   Negotiable   3934 non-null   bool   \n",
      "dtypes: bool(1), float64(1), int64(1), object(5)\n",
      "memory usage: 249.7+ KB\n"
     ]
    }
   ],
   "source": [
    "X_train.info()"
   ]
  },
  {
   "cell_type": "code",
   "execution_count": 112,
   "metadata": {},
   "outputs": [],
   "source": [
    "# Mengidentifikasi fitur numerik dan kategori\n",
    "categorical_features = ['Type', 'Make', 'Gear_Type', 'Origin', 'Options', 'Negotiable']\n",
    "numeric_features = ['Year', 'Engine_Size']"
   ]
  },
  {
   "cell_type": "markdown",
   "metadata": {},
   "source": [
    "## Data Distribution"
   ]
  },
  {
   "cell_type": "markdown",
   "metadata": {},
   "source": [
    "### Data Distribution Numerical Value"
   ]
  },
  {
   "cell_type": "code",
   "execution_count": 113,
   "metadata": {},
   "outputs": [],
   "source": [
    "def diagnostic_plots(numeric_features, variable):\n",
    "    # Define figure size\n",
    "    plt.figure(figsize=(16, 4))\n",
    "\n",
    "    # Histogram\n",
    "    plt.subplot(1, 2, 1)\n",
    "    sns.histplot(numeric_features[variable], bins=20)\n",
    "    plt.title('Histogram')\n",
    "\n",
    "    # Boxplot\n",
    "    plt.subplot(1, 2, 2)\n",
    "    sns.boxplot(y=numeric_features[variable])\n",
    "    plt.title('Boxplot')\n",
    "\n",
    "    plt.show()\n",
    "\n",
    "def find_normal_boundaries(numeric_features, var):\n",
    "    upper_boundary = numeric_features[var].mean() + 3 * numeric_features[var].std()\n",
    "    lower_boundary = numeric_features[var].mean() - 3 * numeric_features[var].std()\n",
    "\n",
    "    return upper_boundary, lower_boundary\n",
    "\n",
    "def percentage_outlier(numeric_features, var, upper_boundary, lower_boundary):\n",
    "    outlier_right_tail = (len(numeric_features[numeric_features[var] > upper_boundary]) / len(numeric_features) * 100)\n",
    "    outlier_left_tail = (len(numeric_features[numeric_features[var] < lower_boundary]) / len(numeric_features) * 100)\n",
    "    return outlier_right_tail, outlier_left_tail\n"
   ]
  },
  {
   "cell_type": "code",
   "execution_count": 114,
   "metadata": {},
   "outputs": [
    {
     "name": "stdout",
     "output_type": "stream",
     "text": [
      "\n",
      "Variable: Year\n"
     ]
    },
    {
     "data": {
      "image/png": "[encoded data removed]",
      "text/plain": [
       "<Figure size 1600x400 with 2 Axes>"
      ]
     },
     "metadata": {},
     "output_type": "display_data"
    },
    {
     "name": "stdout",
     "output_type": "stream",
     "text": [
      "Skewness Value: -2.3761066420602615\n",
      "Upper Boundary: 2031.7439251053888\n",
      "Lower Boundary: 1996.3608029068123\n",
      "% right end outliers: 0.0\n",
      "% left end outliers: 1.8556176919166243\n",
      "Skewed Distribution\n",
      "--------------------\n",
      "\n",
      "Variable: Engine_Size\n"
     ]
    },
    {
     "data": {
      "image/png": "[encoded data removed]",
      "text/plain": [
       "<Figure size 1600x400 with 2 Axes>"
      ]
     },
     "metadata": {},
     "output_type": "display_data"
    },
    {
     "name": "stdout",
     "output_type": "stream",
     "text": [
      "Skewness Value: 0.7315832191201468\n",
      "Upper Boundary: 7.92303713458643\n",
      "Lower Boundary: -1.2958383547186103\n",
      "% right end outliers: 1.4489069649211999\n",
      "% left end outliers: 0.0\n",
      "Skewed Distribution\n",
      "--------------------\n"
     ]
    }
   ],
   "source": [
    "variables = numeric_features\n",
    "X_train_numeric = X_train[numeric_features]\n",
    "\n",
    "for variable in variables:\n",
    "    print(f\"\\nVariable: {variable}\")\n",
    "    diagnostic_plots(X_train_numeric, variable)\n",
    "    print('Skewness Value:', X_train_numeric[variable].skew())\n",
    "    \n",
    "    upper_boundary, lower_boundary = find_normal_boundaries(X_train_numeric, variable)\n",
    "    print('Upper Boundary:', upper_boundary)\n",
    "    print('Lower Boundary:', lower_boundary)\n",
    "\n",
    "    outlier_right_tail, outlier_left_tail = percentage_outlier(X_train_numeric, variable, upper_boundary, lower_boundary)\n",
    "    print(f\"% right end outliers: {outlier_right_tail}\")\n",
    "    print(f\"% left end outliers: {outlier_left_tail}\")\n",
    "\n",
    "    if (X_train_numeric[variable].skew() <= -0.5) | (X_train_numeric[variable].skew() >= 0.5):\n",
    "        print('Skewed Distribution')\n",
    "        print('-'*20)\n",
    "    else:\n",
    "        print('Normal Distribution')\n",
    "        print('-'*20)\n"
   ]
  },
  {
   "cell_type": "markdown",
   "metadata": {},
   "source": [
    "## Outliers Handling For Numerical Value"
   ]
  },
  {
   "cell_type": "code",
   "execution_count": 115,
   "metadata": {},
   "outputs": [],
   "source": [
    "def outlier_analysis(numeric_features, col):\n",
    "  skewness = numeric_features[col].skew()\n",
    "  if skewness >= -0.5 and skewness <= 0.5:\n",
    "    upper = numeric_features[col].mean() + 3 * numeric_features[col].std()\n",
    "    lower = numeric_features[col].mean() - 3 * numeric_features[col].std()\n",
    "  else:\n",
    "    Q1 = numeric_features[col].quantile(0.25)\n",
    "    Q3 = numeric_features[col].quantile(0.75)\n",
    "    IQR = Q3 - Q1\n",
    "\n",
    "    upper = Q3 + (1.5 * IQR)\n",
    "    lower = Q1 - (1.5 * IQR)\n",
    "    \n",
    "  no_outliers = numeric_features[(numeric_features[col] >= lower) & (numeric_features[col] <= upper)]\n",
    "  outliers = numeric_features[(numeric_features[col] > upper) | (numeric_features[col] < lower)]\n",
    "  \n",
    "  return outliers, no_outliers"
   ]
  },
  {
   "cell_type": "code",
   "execution_count": 116,
   "metadata": {},
   "outputs": [
    {
     "name": "stdout",
     "output_type": "stream",
     "text": [
      "Column name: Year\n",
      "Count of outliers: 184\n",
      "Percentage of outliers: 4.677173360447382 %\n",
      "--------------------\n",
      "Column name: Engine_Size\n",
      "Count of outliers: 14\n",
      "Percentage of outliers: 0.3558718861209964 %\n",
      "--------------------\n"
     ]
    }
   ],
   "source": [
    "columns = numeric_features\n",
    "for col in columns:\n",
    "    outliers, no_outliers = outlier_analysis(X_train_numeric, col)\n",
    "    \n",
    "    if len(outliers) > 0:\n",
    "        print(f'Column name: {col}')\n",
    "        print('Count of outliers:', len(outliers))\n",
    "        print('Percentage of outliers:', (len(outliers) / len(X_train_numeric)) * 100, '%')\n",
    "    else:\n",
    "        print(f'Column name: {col}')\n",
    "        print('No outliers found')\n",
    "    \n",
    "    print('-' * 20)\n"
   ]
  },
  {
   "cell_type": "code",
   "execution_count": 117,
   "metadata": {},
   "outputs": [],
   "source": [
    "# capping outlier if exist and in large proportion\n",
    "wins = Winsorizer(capping_method='iqr', tail='both', fold=1.5)\n",
    "wins.fit(X_train_numeric)\n",
    "X_train_numeric = wins.transform(X_train_numeric)"
   ]
  },
  {
   "cell_type": "code",
   "execution_count": 118,
   "metadata": {},
   "outputs": [
    {
     "data": {
      "image/png": "[encoded data removed]",
      "text/plain": [
       "<Figure size 3000x4500 with 2 Axes>"
      ]
     },
     "metadata": {},
     "output_type": "display_data"
    }
   ],
   "source": [
    "num = X_train_numeric\n",
    "n = len(num.columns)\n",
    "sns.set(font_scale=1)\n",
    "fig, ax = plt.subplots(n, 1, figsize=(30, 45))\n",
    "for i, col in enumerate(num.columns):\n",
    "    sns.boxplot(ax=ax[i], data=X_train_numeric[col], width=0.50)\n",
    "    ax[i].set_title(f'{col} in train set - after outlier handling')\n",
    "\n",
    "plt.show()\n"
   ]
  },
  {
   "cell_type": "code",
   "execution_count": 119,
   "metadata": {},
   "outputs": [],
   "source": [
    "# Gabungkan kembali kolom numerik yang telah ditransformasi dengan kolom lainnya\n",
    "X_train[numeric_features] = X_train_numeric"
   ]
  },
  {
   "cell_type": "markdown",
   "metadata": {},
   "source": [
    "## Encoding For Categorical Data"
   ]
  },
  {
   "cell_type": "code",
   "execution_count": 120,
   "metadata": {},
   "outputs": [
    {
     "data": {
      "text/html": [
       "<div>\n",
       "<style scoped>\n",
       "    .dataframe tbody tr th:only-of-type {\n",
       "        vertical-align: middle;\n",
       "    }\n",
       "\n",
       "    .dataframe tbody tr th {\n",
       "        vertical-align: top;\n",
       "    }\n",
       "\n",
       "    .dataframe thead th {\n",
       "        text-align: right;\n",
       "    }\n",
       "</style>\n",
       "<table border=\"1\" class=\"dataframe\">\n",
       "  <thead>\n",
       "    <tr style=\"text-align: right;\">\n",
       "      <th></th>\n",
       "      <th>Type</th>\n",
       "      <th>Make</th>\n",
       "      <th>Gear_Type</th>\n",
       "      <th>Origin</th>\n",
       "      <th>Options</th>\n",
       "      <th>Year</th>\n",
       "      <th>Engine_Size</th>\n",
       "      <th>Negotiable</th>\n",
       "    </tr>\n",
       "  </thead>\n",
       "  <tbody>\n",
       "    <tr>\n",
       "      <th>270</th>\n",
       "      <td>Silverado</td>\n",
       "      <td>Chevrolet</td>\n",
       "      <td>Automatic</td>\n",
       "      <td>Saudi</td>\n",
       "      <td>Standard</td>\n",
       "      <td>2018</td>\n",
       "      <td>5.3</td>\n",
       "      <td>False</td>\n",
       "    </tr>\n",
       "    <tr>\n",
       "      <th>3561</th>\n",
       "      <td>Range Rover</td>\n",
       "      <td>Land Rover</td>\n",
       "      <td>Automatic</td>\n",
       "      <td>Saudi</td>\n",
       "      <td>Full</td>\n",
       "      <td>2020</td>\n",
       "      <td>5.0</td>\n",
       "      <td>False</td>\n",
       "    </tr>\n",
       "    <tr>\n",
       "      <th>4587</th>\n",
       "      <td>Camry</td>\n",
       "      <td>Toyota</td>\n",
       "      <td>Automatic</td>\n",
       "      <td>Other</td>\n",
       "      <td>Full</td>\n",
       "      <td>2019</td>\n",
       "      <td>3.6</td>\n",
       "      <td>True</td>\n",
       "    </tr>\n",
       "    <tr>\n",
       "      <th>5102</th>\n",
       "      <td>Durango</td>\n",
       "      <td>Dodge</td>\n",
       "      <td>Automatic</td>\n",
       "      <td>Saudi</td>\n",
       "      <td>Standard</td>\n",
       "      <td>2016</td>\n",
       "      <td>3.6</td>\n",
       "      <td>True</td>\n",
       "    </tr>\n",
       "    <tr>\n",
       "      <th>2446</th>\n",
       "      <td>Hiace</td>\n",
       "      <td>Toyota</td>\n",
       "      <td>Manual</td>\n",
       "      <td>Gulf Arabic</td>\n",
       "      <td>Standard</td>\n",
       "      <td>2016</td>\n",
       "      <td>2.7</td>\n",
       "      <td>False</td>\n",
       "    </tr>\n",
       "    <tr>\n",
       "      <th>...</th>\n",
       "      <td>...</td>\n",
       "      <td>...</td>\n",
       "      <td>...</td>\n",
       "      <td>...</td>\n",
       "      <td>...</td>\n",
       "      <td>...</td>\n",
       "      <td>...</td>\n",
       "      <td>...</td>\n",
       "    </tr>\n",
       "    <tr>\n",
       "      <th>3773</th>\n",
       "      <td>Yukon</td>\n",
       "      <td>GMC</td>\n",
       "      <td>Automatic</td>\n",
       "      <td>Saudi</td>\n",
       "      <td>Full</td>\n",
       "      <td>2010</td>\n",
       "      <td>6.2</td>\n",
       "      <td>True</td>\n",
       "    </tr>\n",
       "    <tr>\n",
       "      <th>5194</th>\n",
       "      <td>C300</td>\n",
       "      <td>Chrysler</td>\n",
       "      <td>Automatic</td>\n",
       "      <td>Other</td>\n",
       "      <td>Full</td>\n",
       "      <td>2005</td>\n",
       "      <td>5.7</td>\n",
       "      <td>False</td>\n",
       "    </tr>\n",
       "    <tr>\n",
       "      <th>5229</th>\n",
       "      <td>Fusion</td>\n",
       "      <td>Ford</td>\n",
       "      <td>Automatic</td>\n",
       "      <td>Saudi</td>\n",
       "      <td>Semi Full</td>\n",
       "      <td>2015</td>\n",
       "      <td>2.5</td>\n",
       "      <td>False</td>\n",
       "    </tr>\n",
       "    <tr>\n",
       "      <th>5394</th>\n",
       "      <td>Countryman</td>\n",
       "      <td>MINI</td>\n",
       "      <td>Automatic</td>\n",
       "      <td>Other</td>\n",
       "      <td>Full</td>\n",
       "      <td>2016</td>\n",
       "      <td>2.0</td>\n",
       "      <td>False</td>\n",
       "    </tr>\n",
       "    <tr>\n",
       "      <th>860</th>\n",
       "      <td>Corolla</td>\n",
       "      <td>Toyota</td>\n",
       "      <td>Automatic</td>\n",
       "      <td>Saudi</td>\n",
       "      <td>Standard</td>\n",
       "      <td>2015</td>\n",
       "      <td>1.6</td>\n",
       "      <td>False</td>\n",
       "    </tr>\n",
       "  </tbody>\n",
       "</table>\n",
       "<p>3934 rows × 8 columns</p>\n",
       "</div>"
      ],
      "text/plain": [
       "             Type        Make  Gear_Type       Origin    Options  Year  \\\n",
       "270     Silverado   Chevrolet  Automatic        Saudi   Standard  2018   \n",
       "3561  Range Rover  Land Rover  Automatic        Saudi       Full  2020   \n",
       "4587        Camry      Toyota  Automatic        Other       Full  2019   \n",
       "5102      Durango       Dodge  Automatic        Saudi   Standard  2016   \n",
       "2446        Hiace      Toyota     Manual  Gulf Arabic   Standard  2016   \n",
       "...           ...         ...        ...          ...        ...   ...   \n",
       "3773        Yukon         GMC  Automatic        Saudi       Full  2010   \n",
       "5194         C300    Chrysler  Automatic        Other       Full  2005   \n",
       "5229       Fusion        Ford  Automatic        Saudi  Semi Full  2015   \n",
       "5394   Countryman        MINI  Automatic        Other       Full  2016   \n",
       "860       Corolla      Toyota  Automatic        Saudi   Standard  2015   \n",
       "\n",
       "      Engine_Size  Negotiable  \n",
       "270           5.3       False  \n",
       "3561          5.0       False  \n",
       "4587          3.6        True  \n",
       "5102          3.6        True  \n",
       "2446          2.7       False  \n",
       "...           ...         ...  \n",
       "3773          6.2        True  \n",
       "5194          5.7       False  \n",
       "5229          2.5       False  \n",
       "5394          2.0       False  \n",
       "860           1.6       False  \n",
       "\n",
       "[3934 rows x 8 columns]"
      ]
     },
     "execution_count": 120,
     "metadata": {},
     "output_type": "execute_result"
    }
   ],
   "source": [
    "X_train"
   ]
  },
  {
   "cell_type": "code",
   "execution_count": 121,
   "metadata": {},
   "outputs": [],
   "source": [
    "categorical_features_onehot = ['Gear_Type', 'Origin', 'Options']\n",
    "categorical_features_binary = ['Type', 'Make', 'Negotiable']"
   ]
  },
  {
   "cell_type": "code",
   "execution_count": 122,
   "metadata": {},
   "outputs": [],
   "source": [
    "# Memastikan kolom boolean dikonversi menjadi numerik sebelum transformasi\n",
    "X_train['Negotiable'] = X_train['Negotiable'].astype(int)\n",
    "X_test['Negotiable'] = X_test['Negotiable'].astype(int)"
   ]
  },
  {
   "cell_type": "code",
   "execution_count": 123,
   "metadata": {},
   "outputs": [],
   "source": [
    "# Membuat transformer untuk fitur kategori\n",
    "onehot_transformer = OneHotEncoder(handle_unknown='ignore')\n",
    "binary_transformer = BinaryEncoder()"
   ]
  },
  {
   "cell_type": "code",
   "execution_count": 124,
   "metadata": {},
   "outputs": [],
   "source": [
    "# Menggabungkan transformer menggunakan ColumnTransformer\n",
    "preprocessor = ColumnTransformer(\n",
    "    transformers=[\n",
    "        ('onehot', onehot_transformer, categorical_features_onehot),\n",
    "        ('binary', binary_transformer, categorical_features_binary)\n",
    "    ],\n",
    "    remainder='passthrough'  # Kolom lain tidak diubah\n",
    ")"
   ]
  },
  {
   "cell_type": "code",
   "execution_count": 125,
   "metadata": {},
   "outputs": [
    {
     "name": "stdout",
     "output_type": "stream",
     "text": [
      "   Gear_Type_Automatic  Gear_Type_Manual  Origin_Gulf Arabic  Origin_Other  \\\n",
      "0                  1.0               0.0                 0.0           0.0   \n",
      "1                  1.0               0.0                 0.0           0.0   \n",
      "2                  1.0               0.0                 0.0           1.0   \n",
      "3                  1.0               0.0                 0.0           0.0   \n",
      "4                  0.0               1.0                 1.0           0.0   \n",
      "\n",
      "   Origin_Saudi  Origin_Unknown  Options_Full  Options_Semi Full  \\\n",
      "0           1.0             0.0           0.0                0.0   \n",
      "1           1.0             0.0           1.0                0.0   \n",
      "2           0.0             0.0           1.0                0.0   \n",
      "3           1.0             0.0           0.0                0.0   \n",
      "4           0.0             0.0           0.0                0.0   \n",
      "\n",
      "   Options_Standard  Type_0  ...  Type_8  Make_0  Make_1  Make_2  Make_3  \\\n",
      "0               1.0     0.0  ...     1.0     0.0     0.0     0.0     0.0   \n",
      "1               0.0     0.0  ...     0.0     0.0     0.0     0.0     0.0   \n",
      "2               0.0     0.0  ...     1.0     0.0     0.0     0.0     0.0   \n",
      "3               1.0     0.0  ...     0.0     0.0     0.0     0.0     1.0   \n",
      "4               1.0     0.0  ...     1.0     0.0     0.0     0.0     0.0   \n",
      "\n",
      "   Make_4  Make_5  Negotiable    Year  Engine_Size  \n",
      "0     0.0     1.0         0.0  2018.0          5.3  \n",
      "1     1.0     0.0         0.0  2020.0          5.0  \n",
      "2     1.0     1.0         1.0  2019.0          3.6  \n",
      "3     0.0     0.0         1.0  2016.0          3.6  \n",
      "4     1.0     1.0         0.0  2016.0          2.7  \n",
      "\n",
      "[5 rows x 27 columns]\n",
      "   Gear_Type_Automatic  Gear_Type_Manual  Origin_Gulf Arabic  Origin_Other  \\\n",
      "0                  1.0               0.0                 0.0           0.0   \n",
      "1                  1.0               0.0                 0.0           0.0   \n",
      "2                  0.0               1.0                 0.0           0.0   \n",
      "3                  1.0               0.0                 0.0           0.0   \n",
      "4                  1.0               0.0                 0.0           0.0   \n",
      "\n",
      "   Origin_Saudi  Origin_Unknown  Options_Full  Options_Semi Full  \\\n",
      "0           1.0             0.0           0.0                1.0   \n",
      "1           1.0             0.0           0.0                1.0   \n",
      "2           1.0             0.0           0.0                1.0   \n",
      "3           1.0             0.0           0.0                1.0   \n",
      "4           1.0             0.0           0.0                1.0   \n",
      "\n",
      "   Options_Standard  Type_0  ...  Type_8  Make_0  Make_1  Make_2  Make_3  \\\n",
      "0               0.0     0.0  ...     1.0     0.0     0.0     1.0     1.0   \n",
      "1               0.0     0.0  ...     0.0     0.0     1.0     0.0     0.0   \n",
      "2               0.0     0.0  ...     1.0     0.0     0.0     0.0     1.0   \n",
      "3               0.0     0.0  ...     1.0     0.0     0.0     1.0     0.0   \n",
      "4               0.0     0.0  ...     0.0     0.0     0.0     1.0     0.0   \n",
      "\n",
      "   Make_4  Make_5  Negotiable    Year  Engine_Size  \n",
      "0     1.0     1.0         0.0  2016.0          1.4  \n",
      "1     1.0     0.0         0.0  2016.0          3.5  \n",
      "2     0.0     1.0         0.0  2015.0          2.0  \n",
      "3     0.0     0.0         0.0  2016.0          3.3  \n",
      "4     0.0     0.0         1.0  2017.0          2.5  \n",
      "\n",
      "[5 rows x 27 columns]\n"
     ]
    }
   ],
   "source": [
    "# Terapkan ColumnTransformer ke dataset train dan test\n",
    "# Fit preprocessor pada data train\n",
    "X_train_transformed = preprocessor.fit_transform(X_train)\n",
    "X_test_transformed = preprocessor.transform(X_test)\n",
    "\n",
    "# Mendapatkan nama kolom dari OneHotEncoder\n",
    "onehot_columns = preprocessor.named_transformers_['onehot'].get_feature_names_out(categorical_features_onehot).tolist()\n",
    "\n",
    "# Mendapatkan nama kolom dari BinaryEncoder\n",
    "binary_encoded_example = pd.DataFrame(\n",
    "    preprocessor.named_transformers_['binary'].fit_transform(X_train[categorical_features_binary])\n",
    ")\n",
    "binary_columns = binary_encoded_example.columns.tolist()\n",
    "\n",
    "# Mendapatkan nama kolom dari 'passthrough'\n",
    "passthrough_columns = [col for col in X_train.columns if col not in categorical_features_onehot + categorical_features_binary]\n",
    "\n",
    "# Gabungkan semua nama kolom\n",
    "all_columns = onehot_columns + binary_columns + passthrough_columns\n",
    "\n",
    "# Konversi hasil transformasi ke DataFrame\n",
    "X_train_encoded = pd.DataFrame(X_train_transformed, columns=all_columns)\n",
    "X_test_encoded = pd.DataFrame(X_test_transformed, columns=all_columns)\n",
    "\n",
    "# Periksa hasil akhir\n",
    "print(X_train_encoded.head())\n",
    "print(X_test_encoded.head())"
   ]
  },
  {
   "cell_type": "markdown",
   "metadata": {},
   "source": [
    "## Scaling For Numerical Data"
   ]
  },
  {
   "cell_type": "code",
   "execution_count": 126,
   "metadata": {},
   "outputs": [],
   "source": [
    "# Membuat transformer untuk fitur numerik\n",
    "numeric_transformer = StandardScaler()"
   ]
  },
  {
   "cell_type": "code",
   "execution_count": 127,
   "metadata": {},
   "outputs": [],
   "source": [
    "# Apply Standard Scaling pada fitur numerik di train set\n",
    "X_train_scaled = pd.DataFrame(\n",
    "    numeric_transformer.fit_transform(X_train[numeric_features]),\n",
    "    columns=numeric_features,\n",
    "    index=X_train.index\n",
    ")"
   ]
  },
  {
   "cell_type": "code",
   "execution_count": 128,
   "metadata": {},
   "outputs": [],
   "source": [
    "# Menggunakan parameter yang di-fit dari train set untuk transformasi test set\n",
    "X_test_scaled = pd.DataFrame(\n",
    "    numeric_transformer.transform(X_test[numeric_features]),\n",
    "    columns=numeric_features,\n",
    "    index=X_test.index\n",
    ")"
   ]
  },
  {
   "cell_type": "code",
   "execution_count": 129,
   "metadata": {},
   "outputs": [],
   "source": [
    "# Gabungkan kembali data yang telah di-encode dengan data numerik yang telah di-scale\n",
    "# Pastikan untuk menghapus kolom numerik asli dari encoded data sebelum penggabungan\n",
    "X_train_encoded = X_train_encoded.drop(columns=numeric_features, errors='ignore')\n",
    "X_test_encoded = X_test_encoded.drop(columns=numeric_features, errors='ignore')\n",
    "\n",
    "X_train = pd.concat([X_train_scaled.reset_index(drop=True), X_train_encoded.reset_index(drop=True)], axis=1)\n",
    "X_test = pd.concat([X_test_scaled.reset_index(drop=True), X_test_encoded.reset_index(drop=True)], axis=1)"
   ]
  },
  {
   "cell_type": "code",
   "execution_count": 130,
   "metadata": {},
   "outputs": [
    {
     "name": "stdout",
     "output_type": "stream",
     "text": [
      "       Year  Engine_Size  Gear_Type_Automatic  Gear_Type_Manual  \\\n",
      "0  0.771363     1.298916                  1.0               0.0   \n",
      "1  1.200244     1.102905                  1.0               0.0   \n",
      "2  0.985803     0.188188                  1.0               0.0   \n",
      "3  0.342483     0.188188                  1.0               0.0   \n",
      "4  0.342483    -0.399844                  0.0               1.0   \n",
      "\n",
      "   Origin_Gulf Arabic  Origin_Other  Origin_Saudi  Origin_Unknown  \\\n",
      "0                 0.0           0.0           1.0             0.0   \n",
      "1                 0.0           0.0           1.0             0.0   \n",
      "2                 0.0           1.0           0.0             0.0   \n",
      "3                 0.0           0.0           1.0             0.0   \n",
      "4                 1.0           0.0           0.0             0.0   \n",
      "\n",
      "   Options_Full  Options_Semi Full  ...  Type_6  Type_7  Type_8  Make_0  \\\n",
      "0           0.0                0.0  ...     0.0     0.0     1.0     0.0   \n",
      "1           1.0                0.0  ...     0.0     1.0     0.0     0.0   \n",
      "2           1.0                0.0  ...     0.0     1.0     1.0     0.0   \n",
      "3           0.0                0.0  ...     1.0     0.0     0.0     0.0   \n",
      "4           0.0                0.0  ...     1.0     0.0     1.0     0.0   \n",
      "\n",
      "   Make_1  Make_2  Make_3  Make_4  Make_5  Negotiable  \n",
      "0     0.0     0.0     0.0     0.0     1.0         0.0  \n",
      "1     0.0     0.0     0.0     1.0     0.0         0.0  \n",
      "2     0.0     0.0     0.0     1.0     1.0         1.0  \n",
      "3     0.0     0.0     1.0     0.0     0.0         1.0  \n",
      "4     0.0     0.0     0.0     1.0     1.0         0.0  \n",
      "\n",
      "[5 rows x 27 columns]\n",
      "       Year  Engine_Size  Gear_Type_Automatic  Gear_Type_Manual  \\\n",
      "0  0.342483    -1.249224                  1.0               0.0   \n",
      "1  0.342483     0.122851                  1.0               0.0   \n",
      "2  0.128043    -0.857202                  0.0               1.0   \n",
      "3  0.342483    -0.007822                  1.0               0.0   \n",
      "4  0.556923    -0.530518                  1.0               0.0   \n",
      "\n",
      "   Origin_Gulf Arabic  Origin_Other  Origin_Saudi  Origin_Unknown  \\\n",
      "0                 0.0           0.0           1.0             0.0   \n",
      "1                 0.0           0.0           1.0             0.0   \n",
      "2                 0.0           0.0           1.0             0.0   \n",
      "3                 0.0           0.0           1.0             0.0   \n",
      "4                 0.0           0.0           1.0             0.0   \n",
      "\n",
      "   Options_Full  Options_Semi Full  ...  Type_6  Type_7  Type_8  Make_0  \\\n",
      "0           0.0                1.0  ...     1.0     0.0     1.0     0.0   \n",
      "1           0.0                1.0  ...     0.0     1.0     0.0     0.0   \n",
      "2           0.0                1.0  ...     0.0     0.0     1.0     0.0   \n",
      "3           0.0                1.0  ...     0.0     0.0     1.0     0.0   \n",
      "4           0.0                1.0  ...     1.0     0.0     0.0     0.0   \n",
      "\n",
      "   Make_1  Make_2  Make_3  Make_4  Make_5  Negotiable  \n",
      "0     0.0     1.0     1.0     1.0     1.0         0.0  \n",
      "1     1.0     0.0     0.0     1.0     0.0         0.0  \n",
      "2     0.0     0.0     1.0     0.0     1.0         0.0  \n",
      "3     0.0     1.0     0.0     0.0     0.0         0.0  \n",
      "4     0.0     1.0     0.0     0.0     0.0         1.0  \n",
      "\n",
      "[5 rows x 27 columns]\n"
     ]
    }
   ],
   "source": [
    "# Melihat hasil transformasi\n",
    "print(X_train.head())\n",
    "print(X_test.head())"
   ]
  },
  {
   "cell_type": "markdown",
   "metadata": {},
   "source": [
    "# VII. Feature Selection "
   ]
  },
  {
   "cell_type": "markdown",
   "metadata": {},
   "source": [
    "#### ANNOVA F-Value"
   ]
  },
  {
   "cell_type": "code",
   "execution_count": 131,
   "metadata": {},
   "outputs": [
    {
     "data": {
      "text/html": [
       "<div>\n",
       "<style scoped>\n",
       "    .dataframe tbody tr th:only-of-type {\n",
       "        vertical-align: middle;\n",
       "    }\n",
       "\n",
       "    .dataframe tbody tr th {\n",
       "        vertical-align: top;\n",
       "    }\n",
       "\n",
       "    .dataframe thead th {\n",
       "        text-align: right;\n",
       "    }\n",
       "</style>\n",
       "<table border=\"1\" class=\"dataframe\">\n",
       "  <thead>\n",
       "    <tr style=\"text-align: right;\">\n",
       "      <th></th>\n",
       "      <th>Feature</th>\n",
       "      <th>Score</th>\n",
       "      <th>p-value</th>\n",
       "    </tr>\n",
       "  </thead>\n",
       "  <tbody>\n",
       "    <tr>\n",
       "      <th>26</th>\n",
       "      <td>Negotiable</td>\n",
       "      <td>7537.850544</td>\n",
       "      <td>0.0000</td>\n",
       "    </tr>\n",
       "    <tr>\n",
       "      <th>0</th>\n",
       "      <td>Year</td>\n",
       "      <td>4.179113</td>\n",
       "      <td>0.0000</td>\n",
       "    </tr>\n",
       "    <tr>\n",
       "      <th>8</th>\n",
       "      <td>Options_Full</td>\n",
       "      <td>1.909762</td>\n",
       "      <td>0.0000</td>\n",
       "    </tr>\n",
       "    <tr>\n",
       "      <th>10</th>\n",
       "      <td>Options_Standard</td>\n",
       "      <td>1.892917</td>\n",
       "      <td>0.0000</td>\n",
       "    </tr>\n",
       "    <tr>\n",
       "      <th>1</th>\n",
       "      <td>Engine_Size</td>\n",
       "      <td>1.862243</td>\n",
       "      <td>0.0000</td>\n",
       "    </tr>\n",
       "    <tr>\n",
       "      <th>4</th>\n",
       "      <td>Origin_Gulf Arabic</td>\n",
       "      <td>1.651924</td>\n",
       "      <td>0.0000</td>\n",
       "    </tr>\n",
       "    <tr>\n",
       "      <th>6</th>\n",
       "      <td>Origin_Saudi</td>\n",
       "      <td>1.522759</td>\n",
       "      <td>0.0000</td>\n",
       "    </tr>\n",
       "    <tr>\n",
       "      <th>21</th>\n",
       "      <td>Make_1</td>\n",
       "      <td>1.502190</td>\n",
       "      <td>0.0000</td>\n",
       "    </tr>\n",
       "    <tr>\n",
       "      <th>25</th>\n",
       "      <td>Make_5</td>\n",
       "      <td>1.403622</td>\n",
       "      <td>0.0000</td>\n",
       "    </tr>\n",
       "    <tr>\n",
       "      <th>11</th>\n",
       "      <td>Type_0</td>\n",
       "      <td>1.375818</td>\n",
       "      <td>0.0000</td>\n",
       "    </tr>\n",
       "    <tr>\n",
       "      <th>5</th>\n",
       "      <td>Origin_Other</td>\n",
       "      <td>1.323052</td>\n",
       "      <td>0.0000</td>\n",
       "    </tr>\n",
       "    <tr>\n",
       "      <th>13</th>\n",
       "      <td>Type_2</td>\n",
       "      <td>1.291691</td>\n",
       "      <td>0.0002</td>\n",
       "    </tr>\n",
       "    <tr>\n",
       "      <th>22</th>\n",
       "      <td>Make_2</td>\n",
       "      <td>1.259696</td>\n",
       "      <td>0.0006</td>\n",
       "    </tr>\n",
       "    <tr>\n",
       "      <th>17</th>\n",
       "      <td>Type_6</td>\n",
       "      <td>1.240762</td>\n",
       "      <td>0.0013</td>\n",
       "    </tr>\n",
       "    <tr>\n",
       "      <th>16</th>\n",
       "      <td>Type_5</td>\n",
       "      <td>1.222202</td>\n",
       "      <td>0.0026</td>\n",
       "    </tr>\n",
       "    <tr>\n",
       "      <th>24</th>\n",
       "      <td>Make_4</td>\n",
       "      <td>1.162561</td>\n",
       "      <td>0.0182</td>\n",
       "    </tr>\n",
       "    <tr>\n",
       "      <th>14</th>\n",
       "      <td>Type_3</td>\n",
       "      <td>1.159792</td>\n",
       "      <td>0.0198</td>\n",
       "    </tr>\n",
       "    <tr>\n",
       "      <th>18</th>\n",
       "      <td>Type_7</td>\n",
       "      <td>1.151771</td>\n",
       "      <td>0.0249</td>\n",
       "    </tr>\n",
       "    <tr>\n",
       "      <th>2</th>\n",
       "      <td>Gear_Type_Automatic</td>\n",
       "      <td>1.097169</td>\n",
       "      <td>0.0992</td>\n",
       "    </tr>\n",
       "    <tr>\n",
       "      <th>3</th>\n",
       "      <td>Gear_Type_Manual</td>\n",
       "      <td>1.097169</td>\n",
       "      <td>0.0992</td>\n",
       "    </tr>\n",
       "    <tr>\n",
       "      <th>23</th>\n",
       "      <td>Make_3</td>\n",
       "      <td>1.094665</td>\n",
       "      <td>0.1049</td>\n",
       "    </tr>\n",
       "    <tr>\n",
       "      <th>15</th>\n",
       "      <td>Type_4</td>\n",
       "      <td>1.087443</td>\n",
       "      <td>0.1224</td>\n",
       "    </tr>\n",
       "    <tr>\n",
       "      <th>19</th>\n",
       "      <td>Type_8</td>\n",
       "      <td>1.063317</td>\n",
       "      <td>0.1964</td>\n",
       "    </tr>\n",
       "    <tr>\n",
       "      <th>20</th>\n",
       "      <td>Make_0</td>\n",
       "      <td>1.049226</td>\n",
       "      <td>0.2508</td>\n",
       "    </tr>\n",
       "    <tr>\n",
       "      <th>9</th>\n",
       "      <td>Options_Semi Full</td>\n",
       "      <td>1.048528</td>\n",
       "      <td>0.2537</td>\n",
       "    </tr>\n",
       "    <tr>\n",
       "      <th>12</th>\n",
       "      <td>Type_1</td>\n",
       "      <td>0.965844</td>\n",
       "      <td>0.6726</td>\n",
       "    </tr>\n",
       "    <tr>\n",
       "      <th>7</th>\n",
       "      <td>Origin_Unknown</td>\n",
       "      <td>0.182556</td>\n",
       "      <td>1.0000</td>\n",
       "    </tr>\n",
       "  </tbody>\n",
       "</table>\n",
       "</div>"
      ],
      "text/plain": [
       "                Feature        Score  p-value\n",
       "26           Negotiable  7537.850544   0.0000\n",
       "0                  Year     4.179113   0.0000\n",
       "8          Options_Full     1.909762   0.0000\n",
       "10     Options_Standard     1.892917   0.0000\n",
       "1           Engine_Size     1.862243   0.0000\n",
       "4    Origin_Gulf Arabic     1.651924   0.0000\n",
       "6          Origin_Saudi     1.522759   0.0000\n",
       "21               Make_1     1.502190   0.0000\n",
       "25               Make_5     1.403622   0.0000\n",
       "11               Type_0     1.375818   0.0000\n",
       "5          Origin_Other     1.323052   0.0000\n",
       "13               Type_2     1.291691   0.0002\n",
       "22               Make_2     1.259696   0.0006\n",
       "17               Type_6     1.240762   0.0013\n",
       "16               Type_5     1.222202   0.0026\n",
       "24               Make_4     1.162561   0.0182\n",
       "14               Type_3     1.159792   0.0198\n",
       "18               Type_7     1.151771   0.0249\n",
       "2   Gear_Type_Automatic     1.097169   0.0992\n",
       "3      Gear_Type_Manual     1.097169   0.0992\n",
       "23               Make_3     1.094665   0.1049\n",
       "15               Type_4     1.087443   0.1224\n",
       "19               Type_8     1.063317   0.1964\n",
       "20               Make_0     1.049226   0.2508\n",
       "9     Options_Semi Full     1.048528   0.2537\n",
       "12               Type_1     0.965844   0.6726\n",
       "7        Origin_Unknown     0.182556   1.0000"
      ]
     },
     "execution_count": 131,
     "metadata": {},
     "output_type": "execute_result"
    }
   ],
   "source": [
    "X_train_features = X_train.copy()\n",
    "\n",
    "# Feature Selection (select 10 best features)\n",
    "selector = SelectKBest(score_func=f_classif, k=5)\n",
    "selector = selector.fit(X_train_features, y_train)\n",
    "\n",
    "df_scores = pd.DataFrame({'Feature': X_train_features.columns, \n",
    "                          'Score': selector.scores_,\n",
    "                          'p-value': (selector.pvalues_).round(4)})\n",
    "\n",
    "df_scores = df_scores.sort_values(by=['Score'], ascending=False)\n",
    "df_scores"
   ]
  },
  {
   "cell_type": "code",
   "execution_count": 132,
   "metadata": {},
   "outputs": [
    {
     "name": "stdout",
     "output_type": "stream",
     "text": [
      "Feature Scores:\n",
      "Year: 497.3056571888461\n",
      "Engine_Size: 85.19607941299667\n",
      "Gear_Type_Automatic: 78.17379995485848\n",
      "Gear_Type_Manual: 78.1737999548583\n",
      "Origin_Gulf Arabic: 87.75740342720356\n",
      "Origin_Other: 0.5740131650619001\n",
      "Origin_Saudi: 46.40432940235048\n",
      "Origin_Unknown: 12.525434906730784\n",
      "Options_Full: 192.03911214423903\n",
      "Options_Semi Full: 33.48065324397869\n",
      "Options_Standard: 78.28134986845552\n",
      "Type_0: 4.2856578714642595\n",
      "Type_1: 0.2240778613222136\n",
      "Type_2: 0.09753739006227705\n",
      "Type_3: 0.17215428025896493\n",
      "Type_4: 0.5222849371221314\n",
      "Type_5: 0.9373815707514479\n",
      "Type_6: 13.170858476005296\n",
      "Type_7: 2.8334057905159122\n",
      "Type_8: 4.15445906996508\n",
      "Make_0: 5.71590480901274\n",
      "Make_1: 49.789130390628564\n",
      "Make_2: 3.095675936812747\n",
      "Make_3: 13.449241141844324\n",
      "Make_4: 24.569618339059076\n",
      "Make_5: 33.265620165678094\n",
      "Negotiable: 1416.0894774163526\n",
      "\n",
      "Selected Features:\n",
      "Index(['Year', 'Engine_Size', 'Gear_Type_Automatic', 'Gear_Type_Manual',\n",
      "       'Origin_Gulf Arabic', 'Origin_Other', 'Origin_Saudi', 'Origin_Unknown',\n",
      "       'Options_Full', 'Options_Semi Full', 'Options_Standard', 'Type_0',\n",
      "       'Type_1', 'Type_2', 'Type_3', 'Type_4', 'Type_5', 'Type_6', 'Type_7',\n",
      "       'Type_8', 'Make_0', 'Make_1', 'Make_2', 'Make_3', 'Make_4', 'Make_5',\n",
      "       'Negotiable'],\n",
      "      dtype='object')\n"
     ]
    }
   ],
   "source": [
    "\n",
    "# Inisialisasi Selector\n",
    "selector = SelectKBest(score_func=f_regression, k='all')\n",
    "\n",
    "# Fit dan Transform Data\n",
    "X_train_selected = selector.fit_transform(X_train, y_train)\n",
    "\n",
    "# Melihat Skor Feature\n",
    "feature_scores = selector.scores_\n",
    "\n",
    "# Pemilihan Fitur Terbaik\n",
    "selected_features = X_train.columns[selector.get_support()]\n",
    "\n",
    "# Menampilkan hasil\n",
    "print(\"Feature Scores:\")\n",
    "for feature, score in zip(X_train.columns, feature_scores):\n",
    "    print(f\"{feature}: {score}\")\n",
    "\n",
    "print(\"\\nSelected Features:\")\n",
    "print(selected_features)\n"
   ]
  },
  {
   "cell_type": "code",
   "execution_count": 133,
   "metadata": {},
   "outputs": [
    {
     "name": "stdout",
     "output_type": "stream",
     "text": [
      "['Year', 'Engine_Size', 'Gear_Type_Automatic', 'Gear_Type_Manual', 'Origin_Gulf Arabic', 'Origin_Other', 'Origin_Saudi', 'Origin_Unknown', 'Options_Full', 'Options_Semi Full', 'Options_Standard', 'Type_0', 'Type_1', 'Type_2', 'Type_3', 'Type_4', 'Type_5', 'Type_6', 'Type_7', 'Type_8', 'Make_0', 'Make_1', 'Make_2', 'Make_3', 'Make_4', 'Make_5', 'Negotiable']\n"
     ]
    }
   ],
   "source": [
    "# Convert the Index to a list\n",
    "feature_list = selected_features.tolist()\n",
    "\n",
    "print(feature_list)"
   ]
  },
  {
   "cell_type": "code",
   "execution_count": 134,
   "metadata": {},
   "outputs": [],
   "source": [
    "selected_features = feature_list\n",
    "\n",
    "# Filter data train dan test menggunakan fitur yang telah dipilih\n",
    "X_train_selected = X_train[selected_features]\n",
    "X_test_selected = X_test[selected_features]"
   ]
  },
  {
   "cell_type": "markdown",
   "metadata": {},
   "source": [
    "Keputusan akhir diputuskan untuk menggunakan semua feature yang ada. Menggunakan semua fitur yang ada dapat memberikan gambaran yang lebih komprehensif tentang data dan meningkatkan akurasi model prediksi. Setiap fitur berkontribusi pada pemahaman pola yang mungkin tidak langsung terlihat. Meskipun beberapa fitur memiliki skor yang lebih rendah, mereka tetap memberikan informasi tambahan yang relevan. Selain itu, fitur dengan skor tinggi seperti Negotiable, Year, dan Options_Full menunjukkan signifikansi yang kuat, sehingga mempertahankan semua fitur membantu memastikan tidak ada informasi penting yang terabaikan. Hal ini juga memungkinkan model menangkap interaksi antar fitur yang mungkin tidak terdeteksi jika beberapa fitur dihapus."
   ]
  },
  {
   "cell_type": "markdown",
   "metadata": {},
   "source": [
    "# VIII. Machine Learning Modeling"
   ]
  },
  {
   "cell_type": "markdown",
   "metadata": {},
   "source": [
    "Pemodelan regresi dilakukan dengan menggunakan 5 model linear regresi dan 3 model boosting. Model yang akan dites adalah Linear Regression, SVR, KNR, Decision Tree Regressor, Random Forest Regressor, Gradient Bossting Regressor, XGB Regressor dan LightGBM Regressor. Semua model tersebut akan dites dan dilihat metric evaluasinya, yang selanjutnya akan dipilih model dengan performa terbaik yang akan digunakan ke dalam hyper parameter tuning."
   ]
  },
  {
   "cell_type": "markdown",
   "metadata": {},
   "source": [
    "## Model Definition\n"
   ]
  },
  {
   "cell_type": "code",
   "execution_count": 135,
   "metadata": {},
   "outputs": [],
   "source": [
    "# Define Linear regression\n",
    "linreg = LinearRegression()\n",
    "svr = SVR()\n",
    "knr = KNeighborsRegressor()\n",
    "dectree = DecisionTreeRegressor()\n",
    "randomforest = RandomForestRegressor()\n",
    "\n",
    "# Define XGB Regressor\n",
    "xgb = XGBRegressor()\n",
    "# Define LGBM Regressor\n",
    "lgbm = LGBMRegressor()"
   ]
  },
  {
   "cell_type": "markdown",
   "metadata": {},
   "source": [
    "## Model Training\n"
   ]
  },
  {
   "cell_type": "code",
   "execution_count": 136,
   "metadata": {},
   "outputs": [],
   "source": [
    "# Dictionary to hold models\n",
    "models = {\n",
    "    \"Linear Regression\": linreg,\n",
    "    \"Support Vector Regressor\": svr,\n",
    "    \"K-Neighbors Regressor\": knr,\n",
    "    \"Decision Tree Regressor\": dectree,\n",
    "    \"Random Forest Regressor\": randomforest}\n",
    "     "
   ]
  },
  {
   "cell_type": "markdown",
   "metadata": {},
   "source": [
    "### Cross Validation Normal Model"
   ]
  },
  {
   "cell_type": "code",
   "execution_count": 137,
   "metadata": {},
   "outputs": [
    {
     "name": "stdout",
     "output_type": "stream",
     "text": [
      "Linear Regression Cross-Validation MSE Mean: 2787581957.1736593\n",
      "Linear Regression Cross-Validation RMSE Mean: 52473.14911419673\n",
      "Linear Regression Cross-Validation MAE Mean: 32160.93911354104\n",
      "Linear Regression Cross-Validation R² Mean: 0.462372664120177\n",
      "Support Vector Regressor Cross-Validation MSE Mean: 5440077303.707622\n",
      "Support Vector Regressor Cross-Validation RMSE Mean: 73480.79951257867\n",
      "Support Vector Regressor Cross-Validation MAE Mean: 45168.01933543056\n",
      "Support Vector Regressor Cross-Validation R² Mean: -0.05775261318772214\n",
      "K-Neighbors Regressor Cross-Validation MSE Mean: 1762044609.9467797\n",
      "K-Neighbors Regressor Cross-Validation RMSE Mean: 41561.610752631306\n",
      "K-Neighbors Regressor Cross-Validation MAE Mean: 22701.039318570536\n",
      "K-Neighbors Regressor Cross-Validation R² Mean: 0.6614944510286491\n",
      "Decision Tree Regressor Cross-Validation MSE Mean: 2140827504.5433793\n",
      "Decision Tree Regressor Cross-Validation RMSE Mean: 45983.33035875212\n",
      "Decision Tree Regressor Cross-Validation MAE Mean: 17580.440517880692\n",
      "Decision Tree Regressor Cross-Validation R² Mean: 0.6077164662593619\n",
      "Random Forest Regressor Cross-Validation MSE Mean: 1123211218.9758813\n",
      "Random Forest Regressor Cross-Validation RMSE Mean: 33269.75501876444\n",
      "Random Forest Regressor Cross-Validation MAE Mean: 14079.362000146424\n",
      "Random Forest Regressor Cross-Validation R² Mean: 0.7723639769846\n"
     ]
    }
   ],
   "source": [
    "# Function to train and evaluate models using cross-validation\n",
    "def cross_val_evaluate(models, X, y, cv=5):\n",
    "    results = {}\n",
    "    for name, model in models.items():\n",
    "        # Cross-validation\n",
    "        scores = cross_val_score(model, X, y, cv=cv, scoring='neg_mean_squared_error')\n",
    "        mse_scores = -scores  # Negate to get positive MSE\n",
    "        rmse_scores = np.sqrt(mse_scores)\n",
    "        \n",
    "        scores = cross_val_score(model, X, y, cv=cv, scoring='neg_mean_absolute_error')\n",
    "        mae_scores = -scores  # Negate to get positive MAE\n",
    "        \n",
    "        scores = cross_val_score(model, X, y, cv=cv, scoring='r2')\n",
    "        r2_scores = scores\n",
    "        \n",
    "        results[name] = {\n",
    "            'MSE': {\n",
    "                'mean': mse_scores.mean(),\n",
    "                'std': mse_scores.std()\n",
    "            },\n",
    "            'RMSE': {\n",
    "                'mean': rmse_scores.mean(),\n",
    "                'std': rmse_scores.std()\n",
    "            },\n",
    "            'MAE': {\n",
    "                'mean': mae_scores.mean(),\n",
    "                'std': mae_scores.std()\n",
    "            },\n",
    "            'R²': {\n",
    "                'mean': r2_scores.mean(),\n",
    "                'std': r2_scores.std()\n",
    "            }\n",
    "        }\n",
    "        \n",
    "        # Print results\n",
    "        print(f'{name} Cross-Validation MSE Mean: {results[name][\"MSE\"][\"mean\"]}')\n",
    "        print(f'{name} Cross-Validation RMSE Mean: {results[name][\"RMSE\"][\"mean\"]}')\n",
    "        print(f'{name} Cross-Validation MAE Mean: {results[name][\"MAE\"][\"mean\"]}')\n",
    "        print(f'{name} Cross-Validation R² Mean: {results[name][\"R²\"][\"mean\"]}')\n",
    "        \n",
    "    return results\n",
    "\n",
    "# Perform cross-validation\n",
    "results = cross_val_evaluate(models, X_train_selected, y_train, cv=5)\n"
   ]
  },
  {
   "cell_type": "code",
   "execution_count": 138,
   "metadata": {},
   "outputs": [
    {
     "name": "stdout",
     "output_type": "stream",
     "text": [
      "Best Model: Random Forest Regressor\n"
     ]
    }
   ],
   "source": [
    "# Pilih model terbaik berdasarkan hasil cross-validation dengan nilai RMSE terendah\n",
    "best_model_name = min(results, key=lambda x: np.mean(results[x]['RMSE']['mean']))  \n",
    "best_model = models[best_model_name]\n",
    "print(f\"Best Model: {best_model_name}\")"
   ]
  },
  {
   "cell_type": "code",
   "execution_count": 139,
   "metadata": {},
   "outputs": [
    {
     "name": "stdout",
     "output_type": "stream",
     "text": [
      "Test Set Evaluation:\n",
      "Test MSE: 1126259045.563056\n",
      "Test RMSE: 33559.783157271086\n",
      "Test MAE: 13783.266468418622\n",
      "Test R²: 0.7438365036213623\n"
     ]
    }
   ],
   "source": [
    "# Evaluasi model terbaik pada test set\n",
    "best_model.fit(X_train_selected, y_train)\n",
    "y_test_pred = best_model.predict(X_test_selected)\n",
    "mse_test = mean_squared_error(y_test, y_test_pred)\n",
    "rmse_test = np.sqrt(mse_test)\n",
    "mae_test = mean_absolute_error(y_test, y_test_pred)\n",
    "r2_test = r2_score(y_test, y_test_pred)\n",
    "\n",
    "print(\"Test Set Evaluation:\")\n",
    "print(f\"Test MSE: {mse_test}\")\n",
    "print(f\"Test RMSE: {rmse_test}\")\n",
    "print(f\"Test MAE: {mae_test}\")\n",
    "print(f\"Test R²: {r2_test}\")\n"
   ]
  },
  {
   "cell_type": "markdown",
   "metadata": {},
   "source": [
    "Didapatkan kesimpulan berdasarkan metric evaluasi bahwa pada tahap ini model Random Forest merupakan model yang memiliki kinerja paling baik, Model ini selanjutnya akan dibandingkan dengan model boosting."
   ]
  },
  {
   "cell_type": "markdown",
   "metadata": {},
   "source": [
    "## Model Boosting"
   ]
  },
  {
   "cell_type": "code",
   "execution_count": 140,
   "metadata": {},
   "outputs": [],
   "source": [
    "# Memastikan semua data dalam format NumPy array\n",
    "if isinstance(X_train, pd.DataFrame):\n",
    "    # Mengonversi DataFrame ke NumPy array jika diperlukan\n",
    "    X_train = X_train.values\n",
    "    X_test = X_test.values\n",
    "    y_train = y_train.values\n",
    "    y_test = y_test.values\n"
   ]
  },
  {
   "cell_type": "code",
   "execution_count": 141,
   "metadata": {},
   "outputs": [],
   "source": [
    "# Fungsi untuk evaluasi model\n",
    "def evaluate_model(y_true, y_pred, model_name):\n",
    "    \"\"\"\n",
    "    Evaluasi performa model menggunakan metrik RMSE, MAE, dan R².\n",
    "    \n",
    "    Parameters:\n",
    "        y_true (array-like): Nilai target sebenarnya.\n",
    "        y_pred (array-like): Nilai prediksi model.\n",
    "        model_name (str): Nama model yang dievaluasi.\n",
    "    \n",
    "    Returns:\n",
    "        dict: Nilai RMSE, MAE, dan R².\n",
    "    \"\"\"\n",
    "    rmse = np.sqrt(mean_squared_error(y_true, y_pred))  # Root Mean Squared Error\n",
    "    mae = mean_absolute_error(y_true, y_pred)  # Mean Absolute Error\n",
    "    r2 = r2_score(y_true, y_pred)  # Koefisien Determinasi (R²)\n",
    "    \n",
    "    # Menampilkan hasil evaluasi\n",
    "    print(f'{model_name} RMSE: {rmse}')\n",
    "    print(f'{model_name} MAE: {mae}')\n",
    "    print(f'{model_name} R²: {r2}')\n",
    "    \n",
    "    return {\"model_name\": model_name, \"rmse\": rmse, \"mae\": mae, \"r2\": r2}"
   ]
  },
  {
   "cell_type": "markdown",
   "metadata": {},
   "source": [
    "### Gradient Boosting Regressor"
   ]
  },
  {
   "cell_type": "code",
   "execution_count": 142,
   "metadata": {},
   "outputs": [
    {
     "name": "stdout",
     "output_type": "stream",
     "text": [
      "Gradient Boosting RMSE: 35786.303578974985\n",
      "Gradient Boosting MAE: 19021.755163614594\n",
      "Gradient Boosting R²: 0.7087186801371013\n"
     ]
    }
   ],
   "source": [
    "# Gradient Boosting Regressor\n",
    "gbr = GradientBoostingRegressor(random_state=0)\n",
    "gbr.fit(X_train, y_train)\n",
    "y_test_pred_gbr = gbr.predict(X_test)\n",
    "results_gbr = evaluate_model(y_test, y_test_pred_gbr, \"Gradient Boosting\")"
   ]
  },
  {
   "cell_type": "markdown",
   "metadata": {},
   "source": [
    "### XGB Regressor"
   ]
  },
  {
   "cell_type": "code",
   "execution_count": 143,
   "metadata": {},
   "outputs": [
    {
     "name": "stdout",
     "output_type": "stream",
     "text": [
      "XGBoost RMSE: 30000.984013175163\n",
      "XGBoost MAE: 14004.4580270619\n",
      "XGBoost R²: 0.7952848672866821\n"
     ]
    }
   ],
   "source": [
    "# XGBoost Regressor\n",
    "xgbr = XGBRegressor(random_state=0)\n",
    "xgbr.fit(X_train, y_train)\n",
    "y_test_pred_xgbr = xgbr.predict(X_test)\n",
    "results_xgbr = evaluate_model(y_test, y_test_pred_xgbr, \"XGBoost\")"
   ]
  },
  {
   "cell_type": "markdown",
   "metadata": {},
   "source": [
    "### LGBM Regressor"
   ]
  },
  {
   "cell_type": "code",
   "execution_count": 144,
   "metadata": {},
   "outputs": [
    {
     "name": "stdout",
     "output_type": "stream",
     "text": [
      "LightGBM RMSE: 29338.97645734547\n",
      "LightGBM MAE: 13771.327792045482\n",
      "LightGBM R²: 0.8042197550547889\n"
     ]
    }
   ],
   "source": [
    "# LightGBM Regressor\n",
    "lgbmr = LGBMRegressor(random_state=0)\n",
    "lgbmr.fit(X_train, y_train)\n",
    "y_test_pred_lgbmr = lgbmr.predict(X_test)\n",
    "results_lgbmr = evaluate_model(y_test, y_test_pred_lgbmr, \"LightGBM\")"
   ]
  },
  {
   "cell_type": "code",
   "execution_count": 145,
   "metadata": {},
   "outputs": [
    {
     "name": "stdout",
     "output_type": "stream",
     "text": [
      "\n",
      "Model terbaik berdasarkan RMSE:\n",
      "Model: LightGBM\n",
      "RMSE: 29338.97645734547\n",
      "MAE: 13771.327792045482\n",
      "R²: 0.8042197550547889\n"
     ]
    }
   ],
   "source": [
    "# Membandingkan hasil evaluasi model\n",
    "all_results = [results_gbr, results_xgbr, results_lgbmr]\n",
    "best_model = min(all_results, key=lambda x: x[\"rmse\"])  # Memilih model dengan RMSE terendah\n",
    "\n",
    "# Menampilkan model terbaik\n",
    "print(\"\\nModel terbaik berdasarkan RMSE:\")\n",
    "print(f\"Model: {best_model['model_name']}\")\n",
    "print(f\"RMSE: {best_model['rmse']}\")\n",
    "print(f\"MAE: {best_model['mae']}\")\n",
    "print(f\"R²: {best_model['r2']}\")"
   ]
  },
  {
   "cell_type": "markdown",
   "metadata": {},
   "source": [
    "#### Best Model on Boosted Model"
   ]
  },
  {
   "cell_type": "code",
   "execution_count": 146,
   "metadata": {},
   "outputs": [],
   "source": [
    "# Definisikan LightGBM sebagai best_model_boosting\n",
    "best_model_boosting = lgbmr"
   ]
  },
  {
   "cell_type": "code",
   "execution_count": 147,
   "metadata": {},
   "outputs": [
    {
     "name": "stdout",
     "output_type": "stream",
     "text": [
      "train RMSE: 19611.86496544035\n",
      "train MAE: 10088.647755405076\n",
      "train R²: 0.9253041403844365\n"
     ]
    }
   ],
   "source": [
    "# Evaluate the best model on the train set\n",
    "y_train_pred_boosting = best_model_boosting.predict(X_train)\n",
    "rmse_train_boosting = np.sqrt(mean_squared_error(y_train, y_train_pred_boosting))\n",
    "mae_train_boosting = mean_absolute_error(y_train, y_train_pred_boosting)\n",
    "r2_train_boosting = r2_score(y_train, y_train_pred_boosting)\n",
    "\n",
    "print(f'train RMSE: {rmse_train_boosting}')\n",
    "print(f'train MAE: {mae_train_boosting}')\n",
    "print(f'train R²: {r2_train_boosting}')"
   ]
  },
  {
   "cell_type": "code",
   "execution_count": 148,
   "metadata": {},
   "outputs": [
    {
     "name": "stdout",
     "output_type": "stream",
     "text": [
      "Best Boosting Model: LightGBM\n",
      "Test RMSE: 29338.97645734547\n",
      "Test MAE: 13771.327792045482\n",
      "Test R²: 0.8042197550547889\n"
     ]
    }
   ],
   "source": [
    "# Dictionary to hold test results\n",
    "test_results_boosting = {\n",
    "    \"Gradient Boosting\": {\n",
    "        \"RMSE\": results_gbr[\"rmse\"],\n",
    "        \"MAE\": results_gbr[\"mae\"],\n",
    "        \"R²\": results_gbr[\"r2\"]\n",
    "    },\n",
    "    \"XGBoost\": {\n",
    "        \"RMSE\": results_xgbr[\"rmse\"],\n",
    "        \"MAE\": results_xgbr[\"mae\"],\n",
    "        \"R²\": results_xgbr[\"r2\"]\n",
    "    },\n",
    "    \"LightGBM\": {\n",
    "        \"RMSE\": results_lgbmr[\"rmse\"],\n",
    "        \"MAE\": results_lgbmr[\"mae\"],\n",
    "        \"R²\": results_lgbmr[\"r2\"]\n",
    "    }\n",
    "}\n",
    "\n",
    "# Select the best model based on test RMSE\n",
    "best_model_name_boosting = min(test_results_boosting, key=lambda x: test_results_boosting[x][\"RMSE\"])\n",
    "best_model_boosting = {\n",
    "    \"Gradient Boosting\": gbr,\n",
    "    \"XGBoost\": xgbr,\n",
    "    \"LightGBM\": lgbmr\n",
    "}[best_model_name_boosting]\n",
    "\n",
    "# Display the best boosting model\n",
    "print(f'Best Boosting Model: {best_model_name_boosting}')\n",
    "\n",
    "# Evaluate the best model on the test set\n",
    "y_test_pred_boosting = best_model_boosting.predict(X_test)\n",
    "rmse_test_boosting = np.sqrt(mean_squared_error(y_test, y_test_pred_boosting))\n",
    "mae_test_boosting = mean_absolute_error(y_test, y_test_pred_boosting)\n",
    "r2_test_boosting = r2_score(y_test, y_test_pred_boosting)\n",
    "\n",
    "# Print test results for the best model\n",
    "print(f'Test RMSE: {rmse_test_boosting}')\n",
    "print(f'Test MAE: {mae_test_boosting}')\n",
    "print(f'Test R²: {r2_test_boosting}')"
   ]
  },
  {
   "cell_type": "markdown",
   "metadata": {},
   "source": [
    "Berdasarkan training model untuk model boosting, didapatkan bahwa model LightGBM adalah model yang paling baik di model boosting. Hasil model ini dibandingkan dengan model terbaik sebelumnya yaitu Random Forest. Setelah perbandingan antara evaluation metric kedua model tersebut, didapatkan bahwa kinerja dari model LightGBM lebih baik jika dibandingkan dengan Random Forest. Maka diputuskan bahwa base model yang digunakan adalah model LightGBM, yang selanjutnya akan dites dengan hyper parameter tuning."
   ]
  },
  {
   "cell_type": "markdown",
   "metadata": {},
   "source": [
    "# IX. Hyper Paramater Tuning"
   ]
  },
  {
   "cell_type": "markdown",
   "metadata": {},
   "source": [
    "Hyper parameter tuning yang dilakukan berdasarkan model terbaik sebelumnya yaitu LightGBM, menggunakan dua metode yaitu GridSearchCV dan RandomizedSearchCV. Kedua metode tersebut selanjutnya akan dievaluasi berdasarkan evaluation metricnya yang selanjutnya akan dipilih model yang terbaik untuk digunakan  dalam machine learning."
   ]
  },
  {
   "cell_type": "markdown",
   "metadata": {},
   "source": [
    "## GridSearchCV"
   ]
  },
  {
   "cell_type": "code",
   "execution_count": 149,
   "metadata": {},
   "outputs": [
    {
     "name": "stdout",
     "output_type": "stream",
     "text": [
      "Fitting 5 folds for each of 729 candidates, totalling 3645 fits\n",
      "Best Parameters: {'learning_rate': 0.1, 'max_depth': 5, 'min_child_samples': 5, 'min_split_gain': 0.1, 'n_estimators': 300, 'subsample': 0.8}\n",
      "Training RMSE: 14692.909961708649\n",
      "Training MAE: 8735.246971135079\n",
      "Training R²: 0.9580748741014841\n",
      "Test RMSE: 30644.385523077064\n",
      "Test MAE: 14640.261779022028\n",
      "Test R²: 0.7864100643047108\n"
     ]
    }
   ],
   "source": [
    "# Define the parameter grid for GridSearchCV\n",
    "param_grid = {\n",
    "    'n_estimators': [100, 200, 300],\n",
    "    'learning_rate': [0.01, 0.05, 0.1],\n",
    "    'max_depth': [3, 4, 5],\n",
    "    'min_split_gain': [0.0, 0.1, 0.2],\n",
    "    'min_child_samples': [5, 10, 20],\n",
    "    'subsample': [0.8, 0.9, 1.0]\n",
    "}\n",
    "\n",
    "# Initialize the LGBMRegressor\n",
    "lbgm = LGBMRegressor(random_state=0)\n",
    "\n",
    "# Initialize GridSearchCV\n",
    "grid_search = GridSearchCV(\n",
    "    estimator=lbgm, \n",
    "    param_grid=param_grid, \n",
    "    scoring='neg_mean_absolute_error', \n",
    "    cv=5, \n",
    "    n_jobs=-1, \n",
    "    verbose=1\n",
    ")\n",
    "\n",
    "# Fit GridSearchCV on the training data\n",
    "grid_search.fit(X_train, y_train)\n",
    "\n",
    "# Get the best parameters and the best estimator\n",
    "best_params = grid_search.best_params_\n",
    "best_lbgm = grid_search.best_estimator_\n",
    "\n",
    "print(f'Best Parameters: {best_params}')\n",
    "\n",
    "# Evaluate the best model on the training set\n",
    "y_train_pred_best_lbgm = best_lbgm.predict(X_train)\n",
    "rmse_train_best_lbgm = np.sqrt(mean_squared_error(y_train, y_train_pred_best_lbgm))\n",
    "mae_train_best_lbgm = mean_absolute_error(y_train, y_train_pred_best_lbgm)\n",
    "r2_train_best_lbgm = r2_score(y_train, y_train_pred_best_lbgm)\n",
    "\n",
    "print(f'Training RMSE: {rmse_train_best_lbgm}')\n",
    "print(f'Training MAE: {mae_train_best_lbgm}')\n",
    "print(f'Training R²: {r2_train_best_lbgm}')\n",
    "\n",
    "# Evaluate the best model on the test set\n",
    "y_test_pred_best_lbgm = best_lbgm.predict(X_test)\n",
    "rmse_test_best_lbgm = np.sqrt(mean_squared_error(y_test, y_test_pred_best_lbgm))\n",
    "mae_test_best_lbgm = mean_absolute_error(y_test, y_test_pred_best_lbgm)\n",
    "r2_test_best_lbgm = r2_score(y_test, y_test_pred_best_lbgm)\n",
    "\n",
    "print(f'Test RMSE: {rmse_test_best_lbgm}')\n",
    "print(f'Test MAE: {mae_test_best_lbgm}')\n",
    "print(f'Test R²: {r2_test_best_lbgm}')"
   ]
  },
  {
   "cell_type": "markdown",
   "metadata": {},
   "source": [
    "## RandomizedSearchCV"
   ]
  },
  {
   "cell_type": "code",
   "execution_count": 150,
   "metadata": {},
   "outputs": [
    {
     "name": "stdout",
     "output_type": "stream",
     "text": [
      "Fitting 5 folds for each of 50 candidates, totalling 250 fits\n",
      "Best Parameters: {'learning_rate': np.float64(0.0927534352370206), 'max_depth': 5, 'min_child_samples': 11, 'min_child_weight': np.float64(0.9998470065678665), 'n_estimators': 225, 'subsample': np.float64(0.9809295488419028)}\n",
      "Training Evaluation:\n",
      "Training RMSE: 20700.341351240266\n",
      "Training MAE: 11434.52055876511\n",
      "Training R²: 0.9167826742852629\n",
      "Test Evaluation:\n",
      "Test RMSE: 31155.402391097858\n",
      "Test MAE: 15209.224089766387\n",
      "Test R²: 0.7792271419672853\n"
     ]
    },
    {
     "data": {
      "text/plain": [
       "(np.float64(31155.402391097858),\n",
       " np.float64(15209.224089766387),\n",
       " 0.7792271419672853)"
      ]
     },
     "execution_count": 150,
     "metadata": {},
     "output_type": "execute_result"
    }
   ],
   "source": [
    "# Define the parameter distributions\n",
    "param_dist = {\n",
    "    'n_estimators': randint(100, 301),  # Random integer from 100 to 300\n",
    "    'learning_rate': uniform(0.01, 0.09),  # Random float in [0.01, 0.1]\n",
    "    'max_depth': randint(3, 6),  # Random integer from 3 to 5\n",
    "    'min_child_samples': randint(5, 21),  # Minimum child samples (LightGBM equivalent for min_samples_split)\n",
    "    'min_child_weight': uniform(1e-3, 1),  # Minimum child weight\n",
    "    'subsample': uniform(0.8, 0.2)  # Random float in [0.8, 1.0]\n",
    "}\n",
    "\n",
    "# Initialize the LGBMRegressor\n",
    "lbgm = LGBMRegressor(random_state=0)\n",
    "\n",
    "# Initialize RandomizedSearchCV\n",
    "random_search = RandomizedSearchCV(\n",
    "    estimator=lbgm,\n",
    "    param_distributions=param_dist,\n",
    "    n_iter=50,  # Choose n_iter based on parameter space\n",
    "    scoring='neg_mean_absolute_error',\n",
    "    cv=5,\n",
    "    n_jobs=-1,\n",
    "    random_state=0,\n",
    "    verbose=2\n",
    ")\n",
    "\n",
    "# Fit RandomizedSearchCV on the training data\n",
    "random_search.fit(X_train, y_train)\n",
    "\n",
    "# Get the best parameters and the best estimator\n",
    "best_params = random_search.best_params_\n",
    "best_lbgm_random = random_search.best_estimator_\n",
    "\n",
    "print(f'Best Parameters: {best_params}')\n",
    "\n",
    "# Function to evaluate the model\n",
    "def evaluate_model(model, X, y, dataset_name):\n",
    "    y_pred = model.predict(X)\n",
    "    rmse = np.sqrt(mean_squared_error(y, y_pred))\n",
    "    mae = mean_absolute_error(y, y_pred)\n",
    "    r2 = r2_score(y, y_pred)\n",
    "    print(f'{dataset_name} RMSE: {rmse}')\n",
    "    print(f'{dataset_name} MAE: {mae}')\n",
    "    print(f'{dataset_name} R²: {r2}')\n",
    "    return rmse, mae, r2\n",
    "\n",
    "# Evaluate the best model on the training set\n",
    "print(\"Training Evaluation:\")\n",
    "evaluate_model(best_lbgm_random, X_train, y_train, \"Training\")\n",
    "\n",
    "# Evaluate the best model on the test set\n",
    "print(\"Test Evaluation:\")\n",
    "evaluate_model(best_lbgm_random, X_test, y_test, \"Test\")"
   ]
  },
  {
   "cell_type": "markdown",
   "metadata": {},
   "source": [
    "# X. Pemilihan Model"
   ]
  },
  {
   "cell_type": "markdown",
   "metadata": {},
   "source": [
    "Berdasarkan hasil yang diberikan, kita dapat membandingkan kinerja tiga model base model LightGBM dan LightGBM yang sudah di parameter tuning dengan metrik yang berbeda: RMSE (Root Mean Squared Error), MAE (Mean Absolute Error), dan R² (R-squared) pada set training dan test.\n",
    "\n",
    "### Hasil Model:\n",
    "\n",
    "1. **Base Model LightGBM:**\n",
    "    - **Training:**\n",
    "        - RMSE: 19611.86496544035\n",
    "        - MAE: 10088.647755405076\n",
    "        - R²: 0.9253041403844365\n",
    "    - **Test:**\n",
    "        - RMSE: 29338.97645734547\n",
    "        - MAE: 13771.327792045482\n",
    "        - R²:  0.8042197550547889\n",
    "2. **GridSearchCV:**\n",
    "    - **Training:**\n",
    "        - RMSE: 14692.909961708649\n",
    "        - MAE: 8735.246971135079\n",
    "        - R²: 0.9580748741014841\n",
    "    - **Test:**\n",
    "        - RMSE: 30644.385523077064\n",
    "        - MAE: 14640.261779022028\n",
    "        - R²:  0.7864100643047108\n",
    "3. **RandomizedSearchCV:**\n",
    "    - **Training:**\n",
    "        - RMSE: 20700.341351240266\n",
    "        - MAE: 11434.52055876511\n",
    "        - R²: 0.9167826742852629\n",
    "    - **Test:**\n",
    "        - RMSE: 31155.402391097858\n",
    "        - MAE: 15209.224089766387\n",
    "        - R²: 0.7792271419672853\n",
    "\n",
    "### Kesimpulan Modeling:\n",
    "\n",
    "1. **Base Model LightGBM:** Model ini memiliki performa terbaik pada test set dibandingkan GridSearchCV dan RandomizedSearchCV. Nilai RMSE dan MAE lebih rendah serta R² lebih tinggi pada test set, menunjukkan model ini lebih generalizable. Namun, perbedaan antara training dan test set cukup besar, yang mungkin mengindikasikan model sedikit overfitting.\n",
    "\n",
    "2. **GridSearchCV:** Model ini memiliki performa training set terbaik dengan RMSE terendah, MAE terendah, dan R² tertinggi, tetapi performa pada test set sedikit menurun. Nilai RMSE dan MAE test set lebih tinggi, serta R² lebih rendah dibandingkan Base Model, menunjukkan bahwa model ini kurang baik dalam menangani data baru.\n",
    "\n",
    "3. **RandomizedSearchCV:** Model ini memiliki performa terburuk pada test set dengan nilai RMSE dan MAE tertinggi, serta R² terendah dibandingkan Base Model dan GridSearchCV. Performa training set juga lebih buruk dibandingkan kedua model lainnya.\n",
    "\n",
    "**Rekomendasi:**\n",
    "- **Base Model** LightGBM adalah pilihan terbaik berdasarkan hasil evaluasi karena memiliki performa test set terbaik dengan nilai RMSE dan MAE paling kecil, serta R² tertinggi.\n",
    "    - Test R²: 0.804 menunjukkan model dapat menjelaskan 80,4% variabilitas data target pada test set.\n",
    "    - Test RMSE: 29,339 dan Test MAE: 13,771, menandakan kesalahan prediksi lebih kecil dibandingkan model lainnya.\n",
    "\n",
    "### Keputusan Modeling:\n",
    "**Base Model LightGBM** diputuskan sebagai model yang akan digunakan karena memiliki generalisasi terbaik pada test set dibandingkan model lainnya.\n",
    "\n",
    "**Detail Model Terbaik (LightGBM):**\n",
    "**Test:**\n",
    "- RMSE: 29338.97645734547\n",
    "- MAE: 13771.327792045482\n",
    "- R²:  0.8042197550547889"
   ]
  },
  {
   "cell_type": "markdown",
   "metadata": {},
   "source": [
    "--------------------------------------"
   ]
  },
  {
   "cell_type": "markdown",
   "metadata": {},
   "source": [
    "# XI. Kesimpulan Project"
   ]
  },
  {
   "cell_type": "markdown",
   "metadata": {},
   "source": [
    "Dalam project ini telah berhasil membuat sebuah model machine learning yang digunakan dalam memprediksi harga dari mobil bekas di Arab Saudi. Model ini bermanfaat sebagai penunjang informasi yang dapat digunakan perusahaan dalam penentuan harga mobil bekas yang menjadi komoditas pasarnya.\n",
    "\n",
    "Berdasarkan model yang dibuat, feature yang relevan dan memberikan pengaruh yang signifikan terhadap penentuan harga mobil bekas adalah Engine Size, Gear Type, Origin, Options, Type, Make, Negotiable, dan Year.\n",
    "\n",
    "Hasil dari model menunjukkan bahwa performa terbaik pada test set dicapai oleh Base Model LightGBM, dengan nilai RMSE sebesar 29,339, MAE sebesar 13,771, dan R² sebesar 0.804. Evaluasi dilakukan menggunakan metrik RMSE (Root Mean Square Error), MAE (Mean Absolute Error), dan R² (Koefisien Determinasi).\n",
    "\n",
    "Nilai RMSE sebesar 29,339 mengindikasikan bahwa rata-rata kesalahan prediksi model berada pada selisih sekitar 29,339 satuan dari nilai sebenarnya. Nilai MAE sebesar 13,771 menunjukkan rata-rata kesalahan absolut prediksi model. Sedangkan R² sebesar 0.804 berarti model mampu menjelaskan 80,4% variabilitas data target pada test set, yang menunjukkan generalisasi model yang cukup baik.\n",
    "\n",
    "Meskipun performa test set Base Model lebih baik dibandingkan GridSearchCV dan RandomizedSearchCV, terdapat perbedaan cukup besar antara performa training (R²: 0.925) dan test set (R²: 0.804). Hal ini mengindikasikan model mungkin sedikit overfitting terhadap data training.\n",
    "\n",
    "Model saat ini sudah mencapai hasil yang cukup baik dalam memprediksi target pada test set. Namun, terdapat potensi peningkatan performa dengan melakukan eksplorasi fitur tambahan atau penyetelan hyperparameter yang lebih lanjut."
   ]
  },
  {
   "cell_type": "markdown",
   "metadata": {},
   "source": [
    "### **Recommendation** \n",
    "\n",
    "Dengan adanya keterbatasan dalam pembuatan model baik dari segi data yang digunakan serta waktu yang ada dalam pengerjaan project. Berikut ini adalah beberapa rekomendasi yang dapat dilakukan untuk meningkatkan performa model:\n",
    "\n",
    "1. **Penambahan Fitur Relevan**\n",
    "    Menambahkan fitur tambahan yang dapat membantu model memahami lebih baik hubungan dengan target, seperti fitur interaksi antara spesifikasi tertentu (misalnya, lokasi atau kategori data tambahan yang relevan). Hal ini dapat membantu model menangkap pola-pola penting yang mungkin belum ditangkap sepenuhnya.\n",
    "\n",
    "2. **Analisis Residual Error**\n",
    "    Melakukan analisis pada residual error (selisih antara prediksi dan nilai aktual) untuk mengidentifikasi pola error, seperti underestimation atau overestimation, pada subkelompok tertentu. Dengan analisis ini, model dapat disesuaikan lebih baik untuk data tersebut.\n",
    "\n",
    "3. **Cross-Validation yang Lebih Mendalam**\n",
    "    Meningkatkan proses validasi dengan menggunakan teknik cross-validation yang lebih kuat, seperti k-fold dengan variasi stratifikasi, untuk mendapatkan estimasi performa model yang lebih stabil dan mengurangi kemungkinan hasil bias dari dataset.\n",
    "\n",
    "4. **Eksplorasi Model Lain**\n",
    "    Mencoba pendekatan algoritma lain yang mungkin lebih sesuai, seperti CatBoost, yang dapat menangani dataset dan hyperparameter dengan lebih efektif.\n",
    "\n",
    "6. **Optimisasi Hyperparameter**\n",
    "    Melakukan penyetelan hyperparameter lebih lanjut menggunakan pendekatan yang lebih luas, seperti Bayesian Optimization, untuk mengeksplorasi kombinasi hyperparameter terbaik tanpa overfitting."
   ]
  },
  {
   "cell_type": "markdown",
   "metadata": {},
   "source": [
    "# XII. Pipeline"
   ]
  },
  {
   "cell_type": "code",
   "execution_count": 151,
   "metadata": {},
   "outputs": [
    {
     "data": {
      "text/plain": [
       "['model_pipeline.pkl']"
      ]
     },
     "execution_count": 151,
     "metadata": {},
     "output_type": "execute_result"
    }
   ],
   "source": [
    "# Define columns\n",
    "numeric_features = ['Year', 'Engine_Size']\n",
    "categorical_features_onehot = ['Gear_Type', 'Origin', 'Options']\n",
    "categorical_features_binary = ['Type', 'Make', 'Negotiable']\n",
    "\n",
    "# Function to drop irrelevant columns\n",
    "def drop_columns(data):\n",
    "    return data.drop(['Region', 'Mileage'], axis=1)\n",
    "\n",
    "# Preprocessing for numerical features\n",
    "numeric_transformer = Pipeline(steps=[\n",
    "    ('imputer', SimpleImputer(strategy='mean')),\n",
    "    ('scaler', StandardScaler())\n",
    "])\n",
    "\n",
    "# Preprocessing for categorical features\n",
    "binary_transformer = Pipeline(steps=[\n",
    "    ('label_encoder', OneHotEncoder(handle_unknown='ignore'))\n",
    "])\n",
    "categorical_transformer = ColumnTransformer(transformers=[\n",
    "    ('onehot', OneHotEncoder(handle_unknown='ignore'), categorical_features_onehot),\n",
    "    ('binary', binary_transformer, categorical_features_binary)\n",
    "])\n",
    "\n",
    "# Combine preprocessing steps for numerical and categorical features\n",
    "preprocessing_pipeline = Pipeline(steps=[\n",
    "    ('drop_columns', FunctionTransformer(drop_columns)),  # Drop irrelevant columns\n",
    "    ('column_transform', ColumnTransformer(transformers=[\n",
    "        ('num', numeric_transformer, numeric_features),\n",
    "        ('cat', categorical_transformer, categorical_features_onehot + categorical_features_binary)\n",
    "    ]))\n",
    "])\n",
    "\n",
    "# Model\n",
    "lgbm_model = LGBMRegressor(random_state=0)\n",
    "\n",
    "# Full pipeline\n",
    "full_pipeline = Pipeline([\n",
    "    ('preprocessing', preprocessing_pipeline),\n",
    "    ('feature_selection', SelectKBest(score_func=f_regression, k='all')),\n",
    "    ('model', lgbm_model)\n",
    "])\n",
    "\n",
    "# Contoh data untuk fit pipeline\n",
    "data = pd.DataFrame({\n",
    "    'Type': [\"Corolla\", \"Yukon\", \"Optima\", \"FJ\"],\n",
    "    'Region': [\"Abha\", \"Riyadh\", \"Riyadh\", \"Riyadh\"],\n",
    "    'Make': [\"Toyota\", \"GMC\", \"Kia\", \"Toyota\"],\n",
    "    'Gear_Type': [\"Manual\", \"Automatic\", \"Automatic\", \"Automatic\"],\n",
    "    'Origin': [\"Saudi\", \"Saudi\", \"Saudi\", \"Saudi\"],\n",
    "    'Options': ['Standard', 'Full', 'Semi Full', 'Full'],\n",
    "    'Year': [2013, 2014, 2015, 2020],\n",
    "    'Engine_Size': [1.4, 8.0, 2.4, 4.0],\n",
    "    'Mileage': [421000, 80000, 140000, 220000],\n",
    "    'Negotiable': [\"True\", \"False\", \"False\", \"False\"],\n",
    "    'Price': [120000, 290000, 260000, 42000]\n",
    "})\n",
    "target = [120000, 290000, 260000, 42000]  # Contoh target\n",
    "\n",
    "# Fit pipeline\n",
    "full_pipeline.fit(data, target)\n",
    "\n",
    "# Save the pipeline to a .pkl file\n",
    "joblib.dump(full_pipeline, 'model_pipeline.pkl')"
   ]
  },
  {
   "cell_type": "markdown",
   "metadata": {},
   "source": [
    "# XIII. Model Saving"
   ]
  },
  {
   "cell_type": "code",
   "execution_count": 152,
   "metadata": {},
   "outputs": [],
   "source": [
    "with open('lightgbm.pkl', 'wb') as file_1:\n",
    "  joblib.dump(lgbmr, file_1)"
   ]
  }
 ],
 "metadata": {
  "kernelspec": {
   "display_name": "env",
   "language": "python",
   "name": "python3"
  },
  "language_info": {
   "codemirror_mode": {
    "name": "ipython",
    "version": 3
   },
   "file_extension": ".py",
   "mimetype": "text/x-python",
   "name": "python",
   "nbconvert_exporter": "python",
   "pygments_lexer": "ipython3",
   "version": "3.12.7"
  }
 },
 "nbformat": 4,
 "nbformat_minor": 2
}
